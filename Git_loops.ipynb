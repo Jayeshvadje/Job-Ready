{
 "cells": [
  {
   "cell_type": "markdown",
   "id": "6ee5f484",
   "metadata": {},
   "source": [
    "# For loop"
   ]
  },
  {
   "cell_type": "markdown",
   "id": "4a79eb96",
   "metadata": {},
   "source": [
    "For loop is used to iterate over the sequence like list , tuple, strings and other itrable objects"
   ]
  },
  {
   "cell_type": "markdown",
   "id": "c2d67e8b",
   "metadata": {},
   "source": [
    "Question 1: Sum of List Elements\n",
    "\n",
    "Given a list of numbers numbers = [10, 20, 30, 40, 50]:\n",
    "\n",
    "    Write a Python program to calculate the sum of all elements in the list using a for loop.\n",
    "    Print the final sum.\n",
    "\n"
   ]
  },
  {
   "cell_type": "code",
   "execution_count": 24,
   "id": "a2c9262c",
   "metadata": {},
   "outputs": [
    {
     "name": "stdout",
     "output_type": "stream",
     "text": [
      "150\n"
     ]
    }
   ],
   "source": [
    "numbers = [10, 20, 30, 40, 50]\n",
    "Sum=0\n",
    "for i in numbers:\n",
    "    Sum+=i\n",
    "print(Sum)        "
   ]
  },
  {
   "cell_type": "markdown",
   "id": "da7cebd6",
   "metadata": {},
   "source": [
    "Question 2: Count Vowels in a String\n",
    "\n",
    "Write a Python program that takes a string input from the user:\n",
    "\n",
    "    Use a for loop to count the number of vowels (a, e, i, o, u) in the string.\n",
    "    Print the total count of vowels.\n",
    "\n",
    "Example: For the input \"hello\", the output should be 2."
   ]
  },
  {
   "cell_type": "code",
   "execution_count": 36,
   "id": "e884202a",
   "metadata": {},
   "outputs": [
    {
     "name": "stdout",
     "output_type": "stream",
     "text": [
      "enter th string = jayesh\n",
      "2\n"
     ]
    }
   ],
   "source": [
    "S=str(input(\"enter th string = \"))\n",
    "Vowels=\"aeiouAEIOU\"\n",
    "Vowels_count=0\n",
    "for i in S:\n",
    "    if i in Vowels:\n",
    "        Vowels_count+=1\n",
    "print(Vowels_count)"
   ]
  },
  {
   "cell_type": "markdown",
   "id": "e7489464",
   "metadata": {},
   "source": [
    "Question 3: Filter Odd Numbers in a Tuple\n",
    "\n",
    "Given a tuple of integers numbers = (11, 22, 33, 44, 55, 66):\n",
    "\n",
    "    Write a Python program to iterate through the tuple and print only the odd numbers."
   ]
  },
  {
   "cell_type": "code",
   "execution_count": 50,
   "id": "c7ed0138",
   "metadata": {},
   "outputs": [
    {
     "name": "stdout",
     "output_type": "stream",
     "text": [
      "[11, 33, 55]\n"
     ]
    }
   ],
   "source": [
    "numbers = (11, 22, 33, 44, 55, 66)\n",
    "odd=[]\n",
    "for i in numbers:\n",
    "    if i%2!=0:\n",
    "        odd.append(i)\n",
    "print(odd)\n",
    "        "
   ]
  },
  {
   "cell_type": "markdown",
   "id": "810eb3bb",
   "metadata": {},
   "source": [
    "Question 4: Multiply Elements in a Set\n",
    "\n",
    "Given a set values = {2, 3, 5, 7, 11}:\n",
    "\n",
    "    Write a Python program that uses a for loop to multiply all elements in the set together.\n",
    "    Print the final product."
   ]
  },
  {
   "cell_type": "code",
   "execution_count": 69,
   "id": "23cdaac7",
   "metadata": {},
   "outputs": [
    {
     "name": "stdout",
     "output_type": "stream",
     "text": [
      "4\n",
      "9\n",
      "25\n",
      "49\n",
      "121\n"
     ]
    }
   ],
   "source": [
    "values = {2, 3, 5, 7, 11}\n",
    "for i in values:\n",
    "    A=i*i\n",
    "    print(A)"
   ]
  },
  {
   "cell_type": "markdown",
   "id": "64a8419d",
   "metadata": {},
   "source": [
    "Question 5: Print Dictionary Keys and Values\n",
    "\n",
    "Given a dictionary person = {'name': 'Alice', 'age': 30, 'city': 'London'}:\n",
    "\n",
    "    Write a Python program to iterate through the dictionary and print each key along with its corresponding value in the format \"key: value\"."
   ]
  },
  {
   "cell_type": "code",
   "execution_count": 77,
   "id": "294b1776",
   "metadata": {},
   "outputs": [
    {
     "name": "stdout",
     "output_type": "stream",
     "text": [
      "name Alice\n",
      "age 30\n",
      "city London\n"
     ]
    }
   ],
   "source": [
    "person = {'name': 'Alice', 'age': 30, 'city': 'London'}\n",
    "for i,j in person.items():\n",
    "    print(i,j)"
   ]
  },
  {
   "cell_type": "markdown",
   "id": "8efb43e4",
   "metadata": {},
   "source": [
    "Question 6: Calculate Total and Average Grades\n",
    "\n",
    "Given a dictionary grades = {'Math': 85, 'Science': 90, 'English': 78, 'History': 88}:\n",
    "\n",
    "    Write a Python program to calculate the total and average of the grades using a for loop.\n",
    "    Print the total and average."
   ]
  },
  {
   "cell_type": "code",
   "execution_count": 93,
   "id": "2fcd4c5a",
   "metadata": {},
   "outputs": [
    {
     "name": "stdout",
     "output_type": "stream",
     "text": [
      "341\n",
      "85.25\n"
     ]
    }
   ],
   "source": [
    "grades = {'Math': 85, 'Science': 90, 'English': 78, 'History': 88}\n",
    "total=0\n",
    "avg=0\n",
    "c=[]\n",
    "for i,j in grades.items():\n",
    "    total+=j\n",
    "    c.append(j)\n",
    "    \n",
    "    avg=total/len(c)\n",
    "print(total)\n",
    "print(avg)"
   ]
  },
  {
   "cell_type": "markdown",
   "id": "2131582c",
   "metadata": {},
   "source": [
    "Question 7: Find Common Elements in Two Lists\n",
    "\n",
    "Given two lists:\n",
    "\n",
    "python\n",
    "\n",
    "list1 = ['apple', 'banana', 'cherry']\n",
    "list2 = ['banana', 'kiwi', 'apple']\n",
    "\n",
    "    Write a Python program that uses a for loop to find and print elements that are common in both lists."
   ]
  },
  {
   "cell_type": "code",
   "execution_count": 96,
   "id": "bc906c5e",
   "metadata": {},
   "outputs": [
    {
     "name": "stdout",
     "output_type": "stream",
     "text": [
      "apple\n",
      "banana\n",
      "chiku\n"
     ]
    }
   ],
   "source": [
    "list1 = ['apple', 'banana', 'cherry',\"chiku\"]\n",
    "list2 = ['banana', 'kiwi', 'apple',\"chiku\"]\n",
    "\n",
    "for i in list1:\n",
    "    for j in list2:\n",
    "        if i==j:\n",
    "            print(i)"
   ]
  },
  {
   "cell_type": "markdown",
   "id": "c929abc1",
   "metadata": {},
   "source": [
    "Question 8: Square Elements in a List\n",
    "\n",
    "Given a list numbers = [1, 2, 3, 4, 5]:\n",
    "\n",
    "    Write a Python program that uses a for loop to print the square of each element in the list."
   ]
  },
  {
   "cell_type": "code",
   "execution_count": 97,
   "id": "7ebf2a89",
   "metadata": {},
   "outputs": [
    {
     "name": "stdout",
     "output_type": "stream",
     "text": [
      "1\n",
      "4\n",
      "9\n",
      "16\n",
      "25\n"
     ]
    }
   ],
   "source": [
    "numbers = [1, 2, 3, 4, 5]\n",
    "for i in numbers:\n",
    "    print(i*i)\n"
   ]
  },
  {
   "cell_type": "markdown",
   "id": "8d283030",
   "metadata": {},
   "source": [
    "Question 9: Print Tuple Elements with Index\n",
    "\n",
    "Given a tuple colors = ('red', 'blue', 'green', 'yellow'):\n",
    "\n",
    "    Write a Python program to use a for loop to print each element in the tuple along with its index in the format Index x: color."
   ]
  },
  {
   "cell_type": "code",
   "execution_count": 102,
   "id": "59872571",
   "metadata": {},
   "outputs": [
    {
     "name": "stdout",
     "output_type": "stream",
     "text": [
      "0 red\n",
      "1 blue\n",
      "2 green\n",
      "3 yellow\n"
     ]
    }
   ],
   "source": [
    "colors = ('red', 'blue', 'green', 'yellow')\n",
    "for i in colors:\n",
    "    print(colors.index(i),i)\n",
    "    "
   ]
  },
  {
   "cell_type": "markdown",
   "id": "94cb7e7f",
   "metadata": {},
   "source": [
    "Question 10: Count Character Occurrences in a String\n",
    "\n",
    "Write a Python program that takes a string input from the user:\n",
    "\n",
    "    Use a for loop to count how many times each character appears in the string.\n",
    "    Print each character along with its count.\n",
    "\n",
    "Example input: \"hello\" would print:\n",
    "\n",
    "\n",
    "h: 1<br>\n",
    "e: 1<br>\n",
    "l: 2<br>\n",
    "o: 1<br>"
   ]
  },
  {
   "cell_type": "code",
   "execution_count": 105,
   "id": "e61d1d16",
   "metadata": {},
   "outputs": [
    {
     "name": "stdout",
     "output_type": "stream",
     "text": [
      "enter the stringhello\n",
      "h: 1\n",
      "e: 1\n",
      "l: 2\n",
      "o: 1\n"
     ]
    }
   ],
   "source": [
    "STR=str(input(\"enter the string\"))\n",
    "char={}\n",
    "for i in STR:\n",
    "    if i in char:\n",
    "        char[i]+=1\n",
    "    else:\n",
    "        char[i]=1\n",
    "for i, count in char.items():\n",
    "    print(f\"{i}: {count}\")\n",
    "    "
   ]
  },
  {
   "cell_type": "markdown",
   "id": "e0c27e65",
   "metadata": {},
   "source": [
    "Question 11: Check for Even Numbers in a Set\n",
    "\n",
    "Given a set of numbers num_set = {3, 7, 8, 10, 15, 18}:\n",
    "\n",
    "    Write a Python program to iterate through the set and print only the even numbers."
   ]
  },
  {
   "cell_type": "code",
   "execution_count": 107,
   "id": "b1359c16",
   "metadata": {},
   "outputs": [
    {
     "name": "stdout",
     "output_type": "stream",
     "text": [
      "18\n",
      "8\n",
      "10\n"
     ]
    }
   ],
   "source": [
    "num_set = {3, 7, 8, 10, 15, 18}\n",
    "for i in num_set:\n",
    "    if i%2==0:\n",
    "        print(i)"
   ]
  },
  {
   "cell_type": "markdown",
   "id": "19877a7d",
   "metadata": {},
   "source": [
    "Question 12: Filter Keys with Values Greater Than a Threshold\n",
    "\n",
    "Given a dictionary product_prices = {'apple': 2, 'banana': 1, 'cherry': 3, 'mango': 5}:\n",
    "\n",
    "    Write a Python program that uses a for loop to find and print only those products whose price is greater than 2."
   ]
  },
  {
   "cell_type": "code",
   "execution_count": 129,
   "id": "cb54d78e",
   "metadata": {},
   "outputs": [
    {
     "name": "stdout",
     "output_type": "stream",
     "text": [
      "cherry 3\n",
      "mango 5\n"
     ]
    }
   ],
   "source": [
    "product_prices = {'apple': 2, 'banana': 1, 'cherry': 3, 'mango': 5}\n",
    "for i,j in product_prices.items():\n",
    "    if j>2:\n",
    "        print(i,j)"
   ]
  },
  {
   "cell_type": "markdown",
   "id": "1b48a093",
   "metadata": {},
   "source": [
    "Question 13: Reverse Each String in a List\n",
    "\n",
    "Given a list words = ['python', 'loop', 'program', 'exercise']:\n",
    "\n",
    "    Write a Python program that uses a for loop to reverse each word in the list and print it."
   ]
  },
  {
   "cell_type": "code",
   "execution_count": 136,
   "id": "06d2938b",
   "metadata": {},
   "outputs": [
    {
     "name": "stdout",
     "output_type": "stream",
     "text": [
      "['exercise', 'program', 'loop', 'python']\n"
     ]
    }
   ],
   "source": [
    "words = ['python', 'loop', 'program', 'exercise']\n",
    "for i in words:\n",
    "    i=words[::-1]\n",
    "print(i)\n",
    "    "
   ]
  },
  {
   "cell_type": "markdown",
   "id": "5cec6123",
   "metadata": {},
   "source": [
    "Question 14: Find Maximum Value in a List\n",
    "\n",
    "Given a list of numbers numbers = [45, 67, 12, 89, 34]:\n",
    "\n",
    "    Write a Python program that uses a for loop to find and print the maximum number in the list."
   ]
  },
  {
   "cell_type": "code",
   "execution_count": 142,
   "id": "1aaedc32",
   "metadata": {},
   "outputs": [
    {
     "name": "stdout",
     "output_type": "stream",
     "text": [
      "89\n"
     ]
    }
   ],
   "source": [
    "\n",
    "numbers = [45, 67, 12, 89, 34]\n",
    "max_value = numbers[0]  \n",
    "\n",
    "for num in numbers:\n",
    "    if num > max_value:\n",
    "        max_value = num  \n",
    "print(max_value)\n"
   ]
  },
  {
   "cell_type": "markdown",
   "id": "df1902cd",
   "metadata": {},
   "source": [
    "Question 1: Print Even Numbers Using Range\n",
    "\n",
    "Write a Python program that uses the range() function to print all even numbers between 1 and 20 (inclusive)."
   ]
  },
  {
   "cell_type": "code",
   "execution_count": 143,
   "id": "8051c415",
   "metadata": {},
   "outputs": [
    {
     "name": "stdout",
     "output_type": "stream",
     "text": [
      "0\n",
      "2\n",
      "4\n",
      "6\n",
      "8\n",
      "10\n",
      "12\n",
      "14\n",
      "16\n",
      "18\n",
      "20\n"
     ]
    }
   ],
   "source": [
    "for i in range(0,21):\n",
    "    if i%2==0:\n",
    "        print(i)\n",
    "    "
   ]
  },
  {
   "cell_type": "markdown",
   "id": "b8eb3a58",
   "metadata": {},
   "source": [
    "Question 2: Count Down Using While Loop\n",
    "\n",
    "Write a Python program that uses a while loop to count down from 10 to 1 and prints each number."
   ]
  },
  {
   "cell_type": "code",
   "execution_count": 147,
   "id": "6acd139d",
   "metadata": {},
   "outputs": [
    {
     "name": "stdout",
     "output_type": "stream",
     "text": [
      "10\n",
      "9\n",
      "8\n",
      "7\n",
      "6\n",
      "5\n",
      "4\n",
      "3\n",
      "2\n",
      "1\n"
     ]
    }
   ],
   "source": [
    "\n",
    "count = 10\n",
    "while count > 0:\n",
    "    print(count)\n",
    "    count -= 1  \n",
    "\n"
   ]
  },
  {
   "cell_type": "code",
   "execution_count": null,
   "id": "3c089483",
   "metadata": {},
   "outputs": [],
   "source": []
  }
 ],
 "metadata": {
  "kernelspec": {
   "display_name": "Python 3 (ipykernel)",
   "language": "python",
   "name": "python3"
  },
  "language_info": {
   "codemirror_mode": {
    "name": "ipython",
    "version": 3
   },
   "file_extension": ".py",
   "mimetype": "text/x-python",
   "name": "python",
   "nbconvert_exporter": "python",
   "pygments_lexer": "ipython3",
   "version": "3.9.12"
  }
 },
 "nbformat": 4,
 "nbformat_minor": 5
}
