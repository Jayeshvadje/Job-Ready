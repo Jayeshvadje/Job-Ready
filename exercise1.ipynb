{
 "cells": [
  {
   "cell_type": "markdown",
   "id": "47724fe6",
   "metadata": {},
   "source": [
    "you have to write a fun which will take string and return a len of it without using a inbuilt fun len\n",
    "\n"
   ]
  },
  {
   "cell_type": "code",
   "execution_count": 31,
   "id": "5a7679f4",
   "metadata": {},
   "outputs": [
    {
     "data": {
      "text/plain": [
       "6"
      ]
     },
     "execution_count": 31,
     "metadata": {},
     "output_type": "execute_result"
    }
   ],
   "source": [
    "def lenn(s):\n",
    "    count=0\n",
    "    for i in s:\n",
    "        count=count+1\n",
    "    return count\n",
    "lenn(\"jayesh\")        "
   ]
  },
  {
   "cell_type": "markdown",
   "id": "f7cc470a",
   "metadata": {},
   "source": [
    "Write a fun which will be able to print an index of all premitive element which you will pass"
   ]
  },
  {
   "cell_type": "code",
   "execution_count": 63,
   "id": "2366ab67",
   "metadata": {},
   "outputs": [
    {
     "data": {
      "text/plain": [
       "['0 index of - j',\n",
       " '1 index of - a',\n",
       " '2 index of - y',\n",
       " '3 index of - e',\n",
       " '4 index of - s',\n",
       " '5 index of - h']"
      ]
     },
     "execution_count": 63,
     "metadata": {},
     "output_type": "execute_result"
    }
   ],
   "source": [
    "def ind(a):\n",
    "    t=[]\n",
    "    for i in range(len(a)):\n",
    "        t.append(f\"{i} index of - {a[i]}\")\n",
    "    return t\n",
    "            \n",
    "    \n",
    "ind(\"jayesh\")"
   ]
  },
  {
   "cell_type": "markdown",
   "id": "63ba56ea",
   "metadata": {},
   "source": [
    "Write a fun which will take input as a dict and give me out as a list of all the values\n",
    "    \n",
    "    \n",
    "    "
   ]
  },
  {
   "cell_type": "code",
   "execution_count": 90,
   "id": "4be47781",
   "metadata": {},
   "outputs": [
    {
     "data": {
      "text/plain": [
       "['Alice', 25, 'New York', 'Engineer', 'Photography']"
      ]
     },
     "execution_count": 90,
     "metadata": {},
     "output_type": "execute_result"
    }
   ],
   "source": [
    "def DtoL(sample_dict):\n",
    "    l=list(sample_dict.values())\n",
    "    return l\n",
    "DtoL({\n",
    "    \"name\": \"Alice\",\n",
    "    \"age\": 25,\n",
    "    \"city\": \"New York\",\n",
    "    \"occupation\": \"Engineer\",\n",
    "    \"hobby\": \"Photography\"\n",
    "})"
   ]
  },
  {
   "cell_type": "markdown",
   "id": "dd239ddb",
   "metadata": {},
   "source": [
    "write a fun which will take another function as an input and return me an output "
   ]
  },
  {
   "cell_type": "code",
   "execution_count": 91,
   "id": "8c8e2221",
   "metadata": {},
   "outputs": [
    {
     "name": "stdout",
     "output_type": "stream",
     "text": [
      "8\n"
     ]
    }
   ],
   "source": [
    "def apply_function(func, *args, **kwargs):\n",
    "    return func(*args, **kwargs)\n",
    "\n",
    "def add(a, b):\n",
    "    return a + b\n",
    "\n",
    "result = apply_function(add, 5, 3)\n",
    "print(result)\n",
    "    "
   ]
  },
  {
   "cell_type": "markdown",
   "id": "41b1ffbe",
   "metadata": {},
   "source": [
    "write a function which will take multiple list as a input and give me concatnation of all the list"
   ]
  },
  {
   "cell_type": "code",
   "execution_count": 92,
   "id": "91878012",
   "metadata": {},
   "outputs": [
    {
     "data": {
      "text/plain": [
       "[345,\n",
       " 654,\n",
       " 756,\n",
       " 87,\n",
       " 678,\n",
       " 768,\n",
       " 4563546.7,\n",
       " 5,\n",
       " 6437,\n",
       " 67,\n",
       " 542,\n",
       " 3565,\n",
       " 745,\n",
       " 756,\n",
       " 3,\n",
       " 543,\n",
       " 61,\n",
       " 35,\n",
       " 43765,\n",
       " 745,\n",
       " 43]"
      ]
     },
     "execution_count": 92,
     "metadata": {},
     "output_type": "execute_result"
    }
   ],
   "source": [
    "def alllist(*args):\n",
    "    result=[]\n",
    "    for i in args:\n",
    "        result.extend(i)\n",
    "    return result\n",
    "alllist([345,654,756,87,678,768],[4563546.7,5,6437,67,542,3565,745,756,3],[543,61,35,43765,745,43])\n",
    "    "
   ]
  },
  {
   "cell_type": "markdown",
   "id": "94f0b3f0",
   "metadata": {},
   "source": [
    " write a function which will be able to show date and time."
   ]
  },
  {
   "cell_type": "code",
   "execution_count": 100,
   "id": "65567e64",
   "metadata": {},
   "outputs": [],
   "source": [
    "def datetime():\n",
    "    from datetime import datetime\n",
    "    dt1=datetime.now()\n",
    "    return dt1\n",
    "datetime()"
   ]
  },
  {
   "cell_type": "code",
   "execution_count": null,
   "id": "bde1cd7e",
   "metadata": {},
   "outputs": [],
   "source": []
  },
  {
   "cell_type": "code",
   "execution_count": null,
   "id": "a2a3c79d",
   "metadata": {},
   "outputs": [],
   "source": []
  },
  {
   "cell_type": "code",
   "execution_count": null,
   "id": "c88e8e18",
   "metadata": {},
   "outputs": [],
   "source": []
  }
 ],
 "metadata": {
  "kernelspec": {
   "display_name": "Python 3 (ipykernel)",
   "language": "python",
   "name": "python3"
  },
  "language_info": {
   "codemirror_mode": {
    "name": "ipython",
    "version": 3
   },
   "file_extension": ".py",
   "mimetype": "text/x-python",
   "name": "python",
   "nbconvert_exporter": "python",
   "pygments_lexer": "ipython3",
   "version": "3.9.12"
  }
 },
 "nbformat": 4,
 "nbformat_minor": 5
}
