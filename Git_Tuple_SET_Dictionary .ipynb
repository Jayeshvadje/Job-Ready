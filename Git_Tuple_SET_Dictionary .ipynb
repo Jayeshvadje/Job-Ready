{
 "cells": [
  {
   "cell_type": "markdown",
   "id": "24232f11",
   "metadata": {},
   "source": [
    "This Notebook Contain Basic python topics includes Tuple,Set & Dict"
   ]
  },
  {
   "cell_type": "markdown",
   "id": "d0ba803e",
   "metadata": {},
   "source": [
    "Tuple - Tuple is the data type which stores the multiple items in the single variable\n",
    "<br> It's denoted by - ()\n",
    "<br>\n",
    "Tuple is immutable Data type\n",
    "\n",
    "\n",
    "Tuple is mostly use into Password collection or private data collection also where we don't want to change the data after creating due to its immuatable nature"
   ]
  },
  {
   "cell_type": "markdown",
   "id": "7f46dccf",
   "metadata": {},
   "source": [
    "SET - Set is the data type which store various items under single variable\n",
    "<br> Its denoted by - {}\n",
    "<br> SET always gives us unique value. do no allow dublicated value\n",
    "<br> It can store list, tuple, dictionary.\n",
    "<br> Set is unchangable  \n"
   ]
  },
  {
   "cell_type": "markdown",
   "id": "d47539c1",
   "metadata": {},
   "source": [
    "Dictionary - Dictionary is the data type in pythom which stores the key value pair data\n",
    "<br> Its denoted by {key:value}\n",
    "<br> we can check or change the value of the data inside dict using key.\n"
   ]
  },
  {
   "cell_type": "markdown",
   "id": "a5921f32",
   "metadata": {},
   "source": [
    "# Tuple"
   ]
  },
  {
   "cell_type": "code",
   "execution_count": 1,
   "id": "e7ec52c0",
   "metadata": {},
   "outputs": [],
   "source": [
    "#tuple - \n",
    "t=(1,2,34,5,\"jayesh\",[2,35,6,7,\"Joy\"])"
   ]
  },
  {
   "cell_type": "code",
   "execution_count": 2,
   "id": "ffd1c5a5",
   "metadata": {},
   "outputs": [
    {
     "data": {
      "text/plain": [
       "(1, 2, 34, 5, 'jayesh', [2, 35, 6, 7, 'Joy'])"
      ]
     },
     "execution_count": 2,
     "metadata": {},
     "output_type": "execute_result"
    }
   ],
   "source": [
    "t"
   ]
  },
  {
   "cell_type": "code",
   "execution_count": 3,
   "id": "2fee981c",
   "metadata": {},
   "outputs": [
    {
     "data": {
      "text/plain": [
       "2"
      ]
     },
     "execution_count": 3,
     "metadata": {},
     "output_type": "execute_result"
    }
   ],
   "source": [
    "t[1]"
   ]
  },
  {
   "cell_type": "code",
   "execution_count": 9,
   "id": "8c5bd09b",
   "metadata": {},
   "outputs": [],
   "source": [
    "t[5][4] = \"yes\""
   ]
  },
  {
   "cell_type": "code",
   "execution_count": 10,
   "id": "6d9ed129",
   "metadata": {},
   "outputs": [
    {
     "data": {
      "text/plain": [
       "(1, 2, 34, 5, 'jayesh', [2, 35, 6, 7, 'yes'])"
      ]
     },
     "execution_count": 10,
     "metadata": {},
     "output_type": "execute_result"
    }
   ],
   "source": [
    "t"
   ]
  },
  {
   "cell_type": "markdown",
   "id": "04e087f2",
   "metadata": {},
   "source": [
    "Quetions on Tuples - \n",
    "Create a tuple with the following values: (10, 20, 30, 40, 50). Write a Python program to:\n",
    "\n",
    "    Print the tuple.\n",
    "    Access the second and fourth elements from the tuple."
   ]
  },
  {
   "cell_type": "code",
   "execution_count": 11,
   "id": "5b5e93bc",
   "metadata": {},
   "outputs": [
    {
     "name": "stdout",
     "output_type": "stream",
     "text": [
      "(10, 20, 30, 40, 50)\n"
     ]
    }
   ],
   "source": [
    "T1=(10,20,30,40,50)\n",
    "print(T1)"
   ]
  },
  {
   "cell_type": "code",
   "execution_count": 17,
   "id": "172c7087",
   "metadata": {},
   "outputs": [
    {
     "data": {
      "text/plain": [
       "(30, 40)"
      ]
     },
     "execution_count": 17,
     "metadata": {},
     "output_type": "execute_result"
    }
   ],
   "source": [
    "T1[2],T1[3]"
   ]
  },
  {
   "cell_type": "markdown",
   "id": "e0601e5e",
   "metadata": {},
   "source": [
    "Question 2: Tuple Length\n",
    "\n",
    "Given the tuple: ('apple', 'banana', 'cherry', 'date'), write a Python program to:\n",
    "\n",
    "    Print the length of the tuple."
   ]
  },
  {
   "cell_type": "code",
   "execution_count": 19,
   "id": "56534c2f",
   "metadata": {},
   "outputs": [
    {
     "data": {
      "text/plain": [
       "4"
      ]
     },
     "execution_count": 19,
     "metadata": {},
     "output_type": "execute_result"
    }
   ],
   "source": [
    "T2 = ('apple', 'banana', 'cherry', 'date')\n",
    "len(T2)"
   ]
  },
  {
   "cell_type": "markdown",
   "id": "b10029a2",
   "metadata": {},
   "source": [
    "Question 3: Immutable Nature of Tuples\n",
    "\n",
    "Create a tuple: ('Python', 'Java', 'C++'). Try to modify the second item of the tuple to 'JavaScript' and observe what happens. Explain why the modification is not allowed."
   ]
  },
  {
   "cell_type": "code",
   "execution_count": 20,
   "id": "96d63df5",
   "metadata": {},
   "outputs": [
    {
     "ename": "TypeError",
     "evalue": "'tuple' object does not support item assignment",
     "output_type": "error",
     "traceback": [
      "\u001b[1;31m---------------------------------------------------------------------------\u001b[0m",
      "\u001b[1;31mTypeError\u001b[0m                                 Traceback (most recent call last)",
      "Input \u001b[1;32mIn [20]\u001b[0m, in \u001b[0;36m<cell line: 2>\u001b[1;34m()\u001b[0m\n\u001b[0;32m      1\u001b[0m T3\u001b[38;5;241m=\u001b[39m(\u001b[38;5;124m'\u001b[39m\u001b[38;5;124mPython\u001b[39m\u001b[38;5;124m'\u001b[39m, \u001b[38;5;124m'\u001b[39m\u001b[38;5;124mJava\u001b[39m\u001b[38;5;124m'\u001b[39m, \u001b[38;5;124m'\u001b[39m\u001b[38;5;124mC++\u001b[39m\u001b[38;5;124m'\u001b[39m)\n\u001b[1;32m----> 2\u001b[0m T3[\u001b[38;5;241m2\u001b[39m]\u001b[38;5;241m=\u001b[39m\u001b[38;5;124m\"\u001b[39m\u001b[38;5;124mJavaScript\u001b[39m\u001b[38;5;124m\"\u001b[39m\n",
      "\u001b[1;31mTypeError\u001b[0m: 'tuple' object does not support item assignment"
     ]
    }
   ],
   "source": [
    "T3=('Python', 'Java', 'C++')\n",
    "T3[2]=\"JavaScript\""
   ]
  },
  {
   "cell_type": "markdown",
   "id": "0d25b9f5",
   "metadata": {},
   "source": [
    "It gave error Because tuple are immutable and thats why we can not change its value "
   ]
  },
  {
   "cell_type": "markdown",
   "id": "4655221c",
   "metadata": {},
   "source": [
    "Question 4: Tuple Unpacking\n",
    "\n",
    "Given the tuple: ('John', 25, 'Engineer'), unpack its values into three variables and print them separately."
   ]
  },
  {
   "cell_type": "code",
   "execution_count": 31,
   "id": "7ba27c1b",
   "metadata": {},
   "outputs": [],
   "source": [
    "T4=('John', 25, 'Engineer')\n",
    "T4= name,age,personal "
   ]
  },
  {
   "cell_type": "code",
   "execution_count": 43,
   "id": "76641bd4",
   "metadata": {},
   "outputs": [
    {
     "name": "stdout",
     "output_type": "stream",
     "text": [
      "name =  John Age =  25  Personal =  Engineer\n"
     ]
    }
   ],
   "source": [
    "print(\"name = \",name,\"Age = \", age,\" Personal = \", personal)"
   ]
  },
  {
   "cell_type": "markdown",
   "id": "355b3073",
   "metadata": {},
   "source": [
    "Question 5: Concatenating Tuples\n",
    "\n",
    "Write a Python program to:\n",
    "\n",
    "    Concatenate two tuples: (1, 2, 3) and (4, 5, 6).\n",
    "    Print the resulting tuple."
   ]
  },
  {
   "cell_type": "code",
   "execution_count": 44,
   "id": "0b8f3499",
   "metadata": {},
   "outputs": [],
   "source": [
    "T5=(1, 2, 3)\n",
    "T6=(4, 5, 6)"
   ]
  },
  {
   "cell_type": "code",
   "execution_count": 45,
   "id": "800626e9",
   "metadata": {},
   "outputs": [
    {
     "data": {
      "text/plain": [
       "(1, 2, 3, 4, 5, 6)"
      ]
     },
     "execution_count": 45,
     "metadata": {},
     "output_type": "execute_result"
    }
   ],
   "source": [
    "T5+T6"
   ]
  },
  {
   "cell_type": "markdown",
   "id": "368931c1",
   "metadata": {},
   "source": [
    "Question 6: Checking Membership\n",
    "\n",
    "Given the tuple: (5, 10, 15, 20, 25), write a program to check whether the value 15 is present in the tuple. Print an appropriate message."
   ]
  },
  {
   "cell_type": "code",
   "execution_count": 48,
   "id": "6088d408",
   "metadata": {},
   "outputs": [
    {
     "name": "stdout",
     "output_type": "stream",
     "text": [
      "15 is present in T7\n"
     ]
    }
   ],
   "source": [
    "T7=(5, 10, 15, 20, 25)\n",
    "if 15 in T7:\n",
    "    print(\"15 is present in T7\")\n",
    "else:\n",
    "    print(\"15 is not present in T7\")"
   ]
  },
  {
   "cell_type": "markdown",
   "id": "ea47c02d",
   "metadata": {},
   "source": [
    "Question 7: Tuple Slicing\n",
    "\n",
    "Given the tuple: (100, 200, 300, 400, 500), write a Python program to:\n",
    "\n",
    "    Print the first three elements.\n",
    "    Print the last two elements.\n",
    "    Print the tuple in reverse order."
   ]
  },
  {
   "cell_type": "code",
   "execution_count": 49,
   "id": "738e7e29",
   "metadata": {},
   "outputs": [],
   "source": [
    "T8= (100, 200, 300, 400, 500)"
   ]
  },
  {
   "cell_type": "code",
   "execution_count": 59,
   "id": "d5dee96f",
   "metadata": {},
   "outputs": [
    {
     "data": {
      "text/plain": [
       "(100, 200)"
      ]
     },
     "execution_count": 59,
     "metadata": {},
     "output_type": "execute_result"
    }
   ],
   "source": [
    "T8[:2]"
   ]
  },
  {
   "cell_type": "code",
   "execution_count": 60,
   "id": "4b95892f",
   "metadata": {},
   "outputs": [
    {
     "data": {
      "text/plain": [
       "(400, 500)"
      ]
     },
     "execution_count": 60,
     "metadata": {},
     "output_type": "execute_result"
    }
   ],
   "source": [
    "T8[-2:]"
   ]
  },
  {
   "cell_type": "code",
   "execution_count": 61,
   "id": "4a9b41eb",
   "metadata": {},
   "outputs": [
    {
     "data": {
      "text/plain": [
       "(500, 400, 300, 200, 100)"
      ]
     },
     "execution_count": 61,
     "metadata": {},
     "output_type": "execute_result"
    }
   ],
   "source": [
    "T8[::-1]"
   ]
  },
  {
   "cell_type": "markdown",
   "id": "dcad8939",
   "metadata": {},
   "source": [
    "Question 8: Converting a List to a Tuple\n",
    "\n",
    "Write a Python program that:\n",
    "\n",
    "    Takes a list: ['red', 'green', 'blue'].\n",
    "    Converts it into a tuple and prints the result."
   ]
  },
  {
   "cell_type": "code",
   "execution_count": 62,
   "id": "beb6733b",
   "metadata": {},
   "outputs": [],
   "source": [
    "L1=['red', 'green', 'blue']"
   ]
  },
  {
   "cell_type": "code",
   "execution_count": 66,
   "id": "61910fa7",
   "metadata": {},
   "outputs": [
    {
     "name": "stdout",
     "output_type": "stream",
     "text": [
      "<class 'list'>\n"
     ]
    }
   ],
   "source": [
    "print(type(L1))\n",
    "T9=tuple(L1)"
   ]
  },
  {
   "cell_type": "code",
   "execution_count": 67,
   "id": "a6bed405",
   "metadata": {},
   "outputs": [
    {
     "data": {
      "text/plain": [
       "tuple"
      ]
     },
     "execution_count": 67,
     "metadata": {},
     "output_type": "execute_result"
    }
   ],
   "source": [
    "type(T9)"
   ]
  },
  {
   "cell_type": "markdown",
   "id": "13e6ab9a",
   "metadata": {},
   "source": [
    "Question 9: Nested Tuples\n",
    "\n",
    "Create a tuple containing two tuples: ((1, 2, 3), ('a', 'b', 'c')). Write a program to access and print:\n",
    "\n",
    "    The first element of the first tuple.\n",
    "    The second element of the second tuple."
   ]
  },
  {
   "cell_type": "code",
   "execution_count": 69,
   "id": "57809ff3",
   "metadata": {},
   "outputs": [
    {
     "data": {
      "text/plain": [
       "1"
      ]
     },
     "execution_count": 69,
     "metadata": {},
     "output_type": "execute_result"
    }
   ],
   "source": [
    "T10=((1, 2, 3), ('a', 'b', 'c'))\n",
    "T10[0][0]"
   ]
  },
  {
   "cell_type": "code",
   "execution_count": 70,
   "id": "fbe57a86",
   "metadata": {},
   "outputs": [
    {
     "data": {
      "text/plain": [
       "'b'"
      ]
     },
     "execution_count": 70,
     "metadata": {},
     "output_type": "execute_result"
    }
   ],
   "source": [
    "T10[1][1]"
   ]
  },
  {
   "cell_type": "markdown",
   "id": "c05bfa40",
   "metadata": {},
   "source": [
    "Question 10: Finding Minimum and Maximum\n",
    "\n",
    "Given a tuple of numbers: (42, 17, 68, 33, 59), write a Python program to:\n",
    "\n",
    "    Find and print the minimum and maximum values from the tuple."
   ]
  },
  {
   "cell_type": "code",
   "execution_count": 71,
   "id": "fe081ff1",
   "metadata": {},
   "outputs": [],
   "source": [
    "T11=(42, 17, 68, 33, 59)"
   ]
  },
  {
   "cell_type": "code",
   "execution_count": 73,
   "id": "f2bf89eb",
   "metadata": {},
   "outputs": [
    {
     "data": {
      "text/plain": [
       "17"
      ]
     },
     "execution_count": 73,
     "metadata": {},
     "output_type": "execute_result"
    }
   ],
   "source": [
    "min(T11)"
   ]
  },
  {
   "cell_type": "code",
   "execution_count": 74,
   "id": "f2faff99",
   "metadata": {},
   "outputs": [
    {
     "data": {
      "text/plain": [
       "68"
      ]
     },
     "execution_count": 74,
     "metadata": {},
     "output_type": "execute_result"
    }
   ],
   "source": [
    "max(T11)"
   ]
  },
  {
   "cell_type": "markdown",
   "id": "c9af067a",
   "metadata": {},
   "source": [
    "# SET"
   ]
  },
  {
   "cell_type": "markdown",
   "id": "3c483ada",
   "metadata": {},
   "source": [
    "Question 1: Create a Set\n",
    "\n",
    "Create a set with the following elements: {1, 2, 3, 4, 5}. Write a Python program to:\n",
    "\n",
    "    Print the set.\n",
    "    Add the number 6 to the set.\n",
    "    Remove the number 3 from the set."
   ]
  },
  {
   "cell_type": "code",
   "execution_count": 81,
   "id": "72932bd6",
   "metadata": {},
   "outputs": [
    {
     "name": "stdout",
     "output_type": "stream",
     "text": [
      "{1, 2, 3, 4, 5}\n"
     ]
    }
   ],
   "source": [
    "S1= {1, 2, 3, 4, 5}\n",
    "print(S1)"
   ]
  },
  {
   "cell_type": "code",
   "execution_count": 82,
   "id": "679c29c2",
   "metadata": {},
   "outputs": [],
   "source": [
    "S1.add(6)"
   ]
  },
  {
   "cell_type": "code",
   "execution_count": 83,
   "id": "884a316a",
   "metadata": {},
   "outputs": [
    {
     "data": {
      "text/plain": [
       "{1, 2, 3, 4, 5, 6}"
      ]
     },
     "execution_count": 83,
     "metadata": {},
     "output_type": "execute_result"
    }
   ],
   "source": [
    "S1"
   ]
  },
  {
   "cell_type": "code",
   "execution_count": 84,
   "id": "e431e0a4",
   "metadata": {},
   "outputs": [],
   "source": [
    "S1.remove(3)"
   ]
  },
  {
   "cell_type": "code",
   "execution_count": 86,
   "id": "589da6f5",
   "metadata": {},
   "outputs": [
    {
     "data": {
      "text/plain": [
       "{1, 2, 4, 5, 6}"
      ]
     },
     "execution_count": 86,
     "metadata": {},
     "output_type": "execute_result"
    }
   ],
   "source": [
    "S1"
   ]
  },
  {
   "cell_type": "markdown",
   "id": "5c5af7bc",
   "metadata": {},
   "source": [
    "Question 2: Set Union\n",
    "\n",
    "Given two sets: set1 = {1, 2, 3, 4} and set2 = {3, 4, 5, 6}, write a program to:\n",
    "\n",
    "    Find the union of the two sets and print the result."
   ]
  },
  {
   "cell_type": "code",
   "execution_count": 88,
   "id": "80d7f7dd",
   "metadata": {},
   "outputs": [],
   "source": [
    "set1 = {1, 2, 3, 4} \n",
    "set2 = {3, 4, 5, 6}"
   ]
  },
  {
   "cell_type": "code",
   "execution_count": 89,
   "id": "cd1d3f0c",
   "metadata": {},
   "outputs": [
    {
     "data": {
      "text/plain": [
       "{1, 2, 3, 4, 5, 6}"
      ]
     },
     "execution_count": 89,
     "metadata": {},
     "output_type": "execute_result"
    }
   ],
   "source": [
    "set1.union(set2)"
   ]
  },
  {
   "cell_type": "markdown",
   "id": "e46d47a1",
   "metadata": {},
   "source": [
    "Question 3: Set Intersection\n",
    "\n",
    "Given two sets: set1 = {10, 20, 30, 40} and set2 = {30, 40, 50, 60}, write a Python program to:\n",
    "\n",
    "    Find the intersection of the two sets and print the result."
   ]
  },
  {
   "cell_type": "code",
   "execution_count": 91,
   "id": "15f17fe7",
   "metadata": {},
   "outputs": [],
   "source": [
    "set1 = {10, 20, 30, 40} \n",
    "set2 = {30, 40, 50, 60}"
   ]
  },
  {
   "cell_type": "code",
   "execution_count": 92,
   "id": "5da8206b",
   "metadata": {},
   "outputs": [
    {
     "data": {
      "text/plain": [
       "{30, 40}"
      ]
     },
     "execution_count": 92,
     "metadata": {},
     "output_type": "execute_result"
    }
   ],
   "source": [
    "set1.intersection(set2)"
   ]
  },
  {
   "cell_type": "markdown",
   "id": "0b3659d2",
   "metadata": {},
   "source": [
    "Question 4: Set Difference\n",
    "\n",
    "Given two sets: set1 = {10, 20, 30, 40} and set2 = {30, 40, 50, 60}, write a Python program to:\n",
    "\n",
    "    Find the difference between set1 and set2 and print the result."
   ]
  },
  {
   "cell_type": "code",
   "execution_count": 93,
   "id": "ed973120",
   "metadata": {},
   "outputs": [],
   "source": [
    "set1 = {10, 20, 30, 40} \n",
    "set2 = {30, 40, 50, 60}"
   ]
  },
  {
   "cell_type": "code",
   "execution_count": 94,
   "id": "7da91e1c",
   "metadata": {},
   "outputs": [
    {
     "data": {
      "text/plain": [
       "{10, 20}"
      ]
     },
     "execution_count": 94,
     "metadata": {},
     "output_type": "execute_result"
    }
   ],
   "source": [
    "set1.difference(set2)"
   ]
  },
  {
   "cell_type": "markdown",
   "id": "822a882a",
   "metadata": {},
   "source": [
    "Question 5: Check Membership\n",
    "\n",
    "Given the set: fruits = {'apple', 'banana', 'cherry'}, write a Python program to:\n",
    "\n",
    "    Check if 'banana' is present in the set.\n",
    "    Check if 'orange' is present in the set."
   ]
  },
  {
   "cell_type": "code",
   "execution_count": 95,
   "id": "6ee9ca66",
   "metadata": {},
   "outputs": [],
   "source": [
    "fruits = {'apple', 'banana', 'cherry'}"
   ]
  },
  {
   "cell_type": "code",
   "execution_count": 96,
   "id": "fdf47168",
   "metadata": {},
   "outputs": [
    {
     "name": "stdout",
     "output_type": "stream",
     "text": [
      "yes\n"
     ]
    }
   ],
   "source": [
    "if \"banana\" in fruits:\n",
    "    print(\"yes\")\n",
    "else:\n",
    "    print(\"no\")\n",
    "        "
   ]
  },
  {
   "cell_type": "code",
   "execution_count": 97,
   "id": "2503e9fd",
   "metadata": {},
   "outputs": [
    {
     "name": "stdout",
     "output_type": "stream",
     "text": [
      "no\n"
     ]
    }
   ],
   "source": [
    "if \"orange\" in fruits:\n",
    "    print(\"yes\")\n",
    "else:\n",
    "    print(\"no\")\n",
    "        "
   ]
  },
  {
   "cell_type": "markdown",
   "id": "7b1797d3",
   "metadata": {},
   "source": [
    "Question 6: Set Length\n",
    "\n",
    "Create a set with the elements {100, 200, 300, 400, 500}. Write a Python program to:\n",
    "\n",
    "    Print the length of the set."
   ]
  },
  {
   "cell_type": "code",
   "execution_count": 98,
   "id": "976d9c53",
   "metadata": {},
   "outputs": [
    {
     "data": {
      "text/plain": [
       "5"
      ]
     },
     "execution_count": 98,
     "metadata": {},
     "output_type": "execute_result"
    }
   ],
   "source": [
    "S2={100, 200, 300, 400, 500}\n",
    "len(S2)"
   ]
  },
  {
   "cell_type": "markdown",
   "id": "ff259779",
   "metadata": {},
   "source": [
    "Question 7: Remove Duplicates Using a Set\n",
    "\n",
    "Given a list: [10, 20, 20, 30, 40, 40, 50], write a Python program to:\n",
    "\n",
    "    Remove duplicate values by converting the list to a set.\n",
    "    Print the set and verify that the duplicates are removed."
   ]
  },
  {
   "cell_type": "code",
   "execution_count": 99,
   "id": "c21c2842",
   "metadata": {},
   "outputs": [
    {
     "data": {
      "text/plain": [
       "[10, 20, 20, 30, 40, 40, 50]"
      ]
     },
     "execution_count": 99,
     "metadata": {},
     "output_type": "execute_result"
    }
   ],
   "source": [
    "L1=[10, 20, 20, 30, 40, 40, 50]\n",
    "L1"
   ]
  },
  {
   "cell_type": "code",
   "execution_count": 101,
   "id": "ac3fdc8a",
   "metadata": {},
   "outputs": [],
   "source": [
    "S3=set(L1)"
   ]
  },
  {
   "cell_type": "code",
   "execution_count": 102,
   "id": "6fa13f03",
   "metadata": {},
   "outputs": [
    {
     "data": {
      "text/plain": [
       "{10, 20, 30, 40, 50}"
      ]
     },
     "execution_count": 102,
     "metadata": {},
     "output_type": "execute_result"
    }
   ],
   "source": [
    "S3"
   ]
  },
  {
   "cell_type": "markdown",
   "id": "aa68d15b",
   "metadata": {},
   "source": [
    "Question 8: Clear a Set\n",
    "\n",
    "Create a set with the elements {1, 2, 3, 4, 5}. Write a Python program to:\n",
    "\n",
    "    Clear all the elements from the set.\n",
    "    Print the set to verify it's empty."
   ]
  },
  {
   "cell_type": "code",
   "execution_count": 103,
   "id": "9292f199",
   "metadata": {},
   "outputs": [],
   "source": [
    "S4={1, 2, 3, 4, 5}\n",
    "S4.clear()"
   ]
  },
  {
   "cell_type": "code",
   "execution_count": 104,
   "id": "22a8f7a6",
   "metadata": {},
   "outputs": [
    {
     "data": {
      "text/plain": [
       "set()"
      ]
     },
     "execution_count": 104,
     "metadata": {},
     "output_type": "execute_result"
    }
   ],
   "source": [
    "S4"
   ]
  },
  {
   "cell_type": "markdown",
   "id": "778921a9",
   "metadata": {},
   "source": [
    "Question 9: Frozen Set\n",
    "\n",
    "Create a frozen set with the elements {10, 20, 30, 40, 50}. Write a Python program to:\n",
    "\n",
    "    Print the frozen set.\n",
    "    Attempt to add or remove an element from the frozen set and observe the result."
   ]
  },
  {
   "cell_type": "code",
   "execution_count": 105,
   "id": "d8b1a0ee",
   "metadata": {},
   "outputs": [],
   "source": [
    "S5= frozenset({10, 20, 30, 40, 50})"
   ]
  },
  {
   "cell_type": "code",
   "execution_count": 106,
   "id": "7f5467b5",
   "metadata": {},
   "outputs": [
    {
     "data": {
      "text/plain": [
       "frozenset({10, 20, 30, 40, 50})"
      ]
     },
     "execution_count": 106,
     "metadata": {},
     "output_type": "execute_result"
    }
   ],
   "source": [
    "S5"
   ]
  },
  {
   "cell_type": "code",
   "execution_count": 107,
   "id": "00ad982e",
   "metadata": {},
   "outputs": [
    {
     "ename": "AttributeError",
     "evalue": "'frozenset' object has no attribute 'add'",
     "output_type": "error",
     "traceback": [
      "\u001b[1;31m---------------------------------------------------------------------------\u001b[0m",
      "\u001b[1;31mAttributeError\u001b[0m                            Traceback (most recent call last)",
      "Input \u001b[1;32mIn [107]\u001b[0m, in \u001b[0;36m<cell line: 1>\u001b[1;34m()\u001b[0m\n\u001b[1;32m----> 1\u001b[0m \u001b[43mS5\u001b[49m\u001b[38;5;241;43m.\u001b[39;49m\u001b[43madd\u001b[49m(\u001b[38;5;241m60\u001b[39m)\n",
      "\u001b[1;31mAttributeError\u001b[0m: 'frozenset' object has no attribute 'add'"
     ]
    }
   ],
   "source": [
    "S5.add(60)"
   ]
  },
  {
   "cell_type": "code",
   "execution_count": 108,
   "id": "7bb8b113",
   "metadata": {},
   "outputs": [
    {
     "ename": "AttributeError",
     "evalue": "'frozenset' object has no attribute 'remove'",
     "output_type": "error",
     "traceback": [
      "\u001b[1;31m---------------------------------------------------------------------------\u001b[0m",
      "\u001b[1;31mAttributeError\u001b[0m                            Traceback (most recent call last)",
      "Input \u001b[1;32mIn [108]\u001b[0m, in \u001b[0;36m<cell line: 1>\u001b[1;34m()\u001b[0m\n\u001b[1;32m----> 1\u001b[0m \u001b[43mS5\u001b[49m\u001b[38;5;241;43m.\u001b[39;49m\u001b[43mremove\u001b[49m(\u001b[38;5;241m30\u001b[39m)\n",
      "\u001b[1;31mAttributeError\u001b[0m: 'frozenset' object has no attribute 'remove'"
     ]
    }
   ],
   "source": [
    "S5.remove(30)"
   ]
  },
  {
   "cell_type": "markdown",
   "id": "001ee4b8",
   "metadata": {},
   "source": [
    "Frozenset are immutable thats why we can't add or remove anythogn from them"
   ]
  },
  {
   "cell_type": "markdown",
   "id": "bf3a0946",
   "metadata": {},
   "source": [
    "Question 10: Set Symmetric Difference\n",
    "\n",
    "Given two sets: set1 = {1, 2, 3, 4} and set2 = {3, 4, 5, 6}, write a Python program to:\n",
    "\n",
    "    Find the symmetric difference between the two sets and print the result.\n",
    "\n",
    "These questions will help you understand how to create sets, perform operations like union, intersection, and difference, and utilize set-specific methods like adding, removing, and checking membership."
   ]
  },
  {
   "cell_type": "markdown",
   "id": "73be19cb",
   "metadata": {},
   "source": [
    "Question 10: Set Symmetric Difference\n",
    "\n",
    "Given two sets: set1 = {1, 2, 3, 4} and set2 = {3, 4, 5, 6}, write a Python program to:\n",
    "\n",
    "    Find the symmetric difference between the two sets and print the result.\n",
    "\n"
   ]
  },
  {
   "cell_type": "code",
   "execution_count": 109,
   "id": "d66d014a",
   "metadata": {},
   "outputs": [],
   "source": [
    "set1 = {1, 2, 3, 4} \n",
    "set2 = {3, 4, 5, 6}"
   ]
  },
  {
   "cell_type": "code",
   "execution_count": 110,
   "id": "39849bd9",
   "metadata": {},
   "outputs": [
    {
     "data": {
      "text/plain": [
       "{1, 2}"
      ]
     },
     "execution_count": 110,
     "metadata": {},
     "output_type": "execute_result"
    }
   ],
   "source": [
    "set1.difference(set2)"
   ]
  },
  {
   "cell_type": "markdown",
   "id": "f83063a6",
   "metadata": {},
   "source": [
    "# Dictionary"
   ]
  },
  {
   "cell_type": "markdown",
   "id": "860a6d7c",
   "metadata": {},
   "source": [
    "Question 1: Create a Dictionary\n",
    "\n",
    "Create a dictionary with the following key-value pairs:\n",
    "{'name': 'Alice', 'age': 30, 'city': 'New York'}\n",
    "\n",
    "    Print the dictionary.\n",
    "    Access and print the value associated with the key 'name'."
   ]
  },
  {
   "cell_type": "code",
   "execution_count": 111,
   "id": "041479eb",
   "metadata": {},
   "outputs": [],
   "source": [
    "D1={\"name\":\"Alice\",\"Age\":30,\"City\":\"New york\"}"
   ]
  },
  {
   "cell_type": "code",
   "execution_count": 112,
   "id": "ff38417b",
   "metadata": {},
   "outputs": [
    {
     "data": {
      "text/plain": [
       "{'name': 'Alice', 'Age': 30, 'City': 'New york'}"
      ]
     },
     "execution_count": 112,
     "metadata": {},
     "output_type": "execute_result"
    }
   ],
   "source": [
    "D1"
   ]
  },
  {
   "cell_type": "code",
   "execution_count": 113,
   "id": "f8407bcf",
   "metadata": {},
   "outputs": [
    {
     "data": {
      "text/plain": [
       "'Alice'"
      ]
     },
     "execution_count": 113,
     "metadata": {},
     "output_type": "execute_result"
    }
   ],
   "source": [
    "D1[\"name\"]"
   ]
  },
  {
   "cell_type": "markdown",
   "id": "cccc1be7",
   "metadata": {},
   "source": [
    "Question 2: Add Key-Value Pair\n",
    "\n",
    "Given the dictionary: person = {'name': 'Bob', 'age': 28}, write a Python program to:\n",
    "\n",
    "    Add a new key-value pair 'profession': 'Doctor'.\n",
    "    Print the updated dictionary."
   ]
  },
  {
   "cell_type": "code",
   "execution_count": 120,
   "id": "a6d23ca5",
   "metadata": {},
   "outputs": [],
   "source": [
    "person = {'name': 'Bob', 'age': 28}"
   ]
  },
  {
   "cell_type": "code",
   "execution_count": 123,
   "id": "32c44968",
   "metadata": {},
   "outputs": [],
   "source": [
    "person[\"profession\"]='Doctor'"
   ]
  },
  {
   "cell_type": "code",
   "execution_count": 124,
   "id": "0e102793",
   "metadata": {},
   "outputs": [
    {
     "data": {
      "text/plain": [
       "{'name': 'Bob', 'age': 28, 'profession': 'Doctor'}"
      ]
     },
     "execution_count": 124,
     "metadata": {},
     "output_type": "execute_result"
    }
   ],
   "source": [
    "person"
   ]
  },
  {
   "cell_type": "markdown",
   "id": "577464ca",
   "metadata": {},
   "source": [
    "Question 3: Update Dictionary\n",
    "\n",
    "Create a dictionary: car = {'brand': 'Toyota', 'year': 2010}. Write a program to:\n",
    "\n",
    "    Update the 'year' value to 2022.\n",
    "    Print the updated dictionary."
   ]
  },
  {
   "cell_type": "code",
   "execution_count": 125,
   "id": "db7d8949",
   "metadata": {},
   "outputs": [],
   "source": [
    "car = {'brand': 'Toyota', 'year': 2010}"
   ]
  },
  {
   "cell_type": "code",
   "execution_count": 126,
   "id": "7051346b",
   "metadata": {},
   "outputs": [],
   "source": [
    "car[\"year\"]=2022"
   ]
  },
  {
   "cell_type": "code",
   "execution_count": 127,
   "id": "d01cbf2f",
   "metadata": {},
   "outputs": [
    {
     "data": {
      "text/plain": [
       "{'brand': 'Toyota', 'year': 2022}"
      ]
     },
     "execution_count": 127,
     "metadata": {},
     "output_type": "execute_result"
    }
   ],
   "source": [
    "car"
   ]
  },
  {
   "cell_type": "markdown",
   "id": "880ab795",
   "metadata": {},
   "source": [
    "Question 4: Remove Key-Value Pair\n",
    "\n",
    "Given the dictionary: student = {'name': 'Sara', 'age': 21, 'grade': 'A'}, write a program to:\n",
    "\n",
    "    Remove the key 'age' from the dictionary.\n",
    "    Print the updated dictionary."
   ]
  },
  {
   "cell_type": "code",
   "execution_count": 128,
   "id": "41c7b5e2",
   "metadata": {},
   "outputs": [],
   "source": [
    "student = {'name': 'Sara', 'age': 21, 'grade': 'A'}"
   ]
  },
  {
   "cell_type": "code",
   "execution_count": 131,
   "id": "5a3a78ee",
   "metadata": {},
   "outputs": [
    {
     "data": {
      "text/plain": [
       "21"
      ]
     },
     "execution_count": 131,
     "metadata": {},
     "output_type": "execute_result"
    }
   ],
   "source": [
    "student.pop(\"age\")"
   ]
  },
  {
   "cell_type": "code",
   "execution_count": 132,
   "id": "2d9194e2",
   "metadata": {},
   "outputs": [
    {
     "data": {
      "text/plain": [
       "{'name': 'Sara', 'grade': 'A'}"
      ]
     },
     "execution_count": 132,
     "metadata": {},
     "output_type": "execute_result"
    }
   ],
   "source": [
    "student"
   ]
  },
  {
   "cell_type": "markdown",
   "id": "b1dc916d",
   "metadata": {},
   "source": [
    "Question 5: Check Key Existence\n",
    "\n",
    "Write a Python program to:\n",
    "\n",
    "    Check if the key 'city' exists in the dictionary person = {'name': 'Mike', 'age': 24}.\n",
    "    Print a message indicating whether the key exists or not."
   ]
  },
  {
   "cell_type": "code",
   "execution_count": 133,
   "id": "5a2f4b88",
   "metadata": {},
   "outputs": [],
   "source": [
    " person = {'name': 'Mike', 'age': 24}"
   ]
  },
  {
   "cell_type": "code",
   "execution_count": 135,
   "id": "e8973bd0",
   "metadata": {},
   "outputs": [
    {
     "name": "stdout",
     "output_type": "stream",
     "text": [
      "no\n"
     ]
    }
   ],
   "source": [
    "if \"city\" in person:\n",
    "    print(\"yes\")\n",
    "else:\n",
    "    print(\"no\")"
   ]
  },
  {
   "cell_type": "markdown",
   "id": "37f23648",
   "metadata": {},
   "source": [
    "Question 6: Dictionary Length\n",
    "\n",
    "Create a dictionary: inventory = {'apples': 10, 'oranges': 5, 'bananas': 7}. Write a program to:\n",
    "\n",
    "    Print the number of key-value pairs in the dictionary."
   ]
  },
  {
   "cell_type": "code",
   "execution_count": 136,
   "id": "57c0e36e",
   "metadata": {},
   "outputs": [],
   "source": [
    "inventory = {'apples': 10, 'oranges': 5, 'bananas': 7}"
   ]
  },
  {
   "cell_type": "code",
   "execution_count": 137,
   "id": "335eb370",
   "metadata": {},
   "outputs": [
    {
     "data": {
      "text/plain": [
       "3"
      ]
     },
     "execution_count": 137,
     "metadata": {},
     "output_type": "execute_result"
    }
   ],
   "source": [
    "len(inventory)"
   ]
  },
  {
   "cell_type": "markdown",
   "id": "bdd90d9c",
   "metadata": {},
   "source": [
    "Question 8: Get Value with Default\n",
    "\n",
    "Write a Python program that:\n",
    "\n",
    "    Tries to access the value for the key 'salary' in the dictionary person = {'name': 'Alex', 'age': 27}.\n",
    "    If the key does not exist, return a default value 'Not Available' instead."
   ]
  },
  {
   "cell_type": "code",
   "execution_count": 141,
   "id": "5a8f329b",
   "metadata": {},
   "outputs": [],
   "source": [
    "person = {'name': 'Alex', 'age': 27}"
   ]
  },
  {
   "cell_type": "code",
   "execution_count": 148,
   "id": "1ce494f8",
   "metadata": {},
   "outputs": [
    {
     "name": "stdout",
     "output_type": "stream",
     "text": [
      "not Availble\n"
     ]
    }
   ],
   "source": [
    "if \"salary\" in person:\n",
    "    print(salary)\n",
    "else:\n",
    "    print(\"not Availble\")"
   ]
  },
  {
   "cell_type": "markdown",
   "id": "85033add",
   "metadata": {},
   "source": [
    "Question 9: Merge Two Dictionaries\n",
    "\n",
    "Given two dictionaries: dict1 = {'a': 1, 'b': 2}\n",
    "dict2 = {'b': 3, 'c': 4}\n",
    "\n",
    "    Merge the two dictionaries and print the result.\n",
    "    Note how duplicate keys are handled."
   ]
  },
  {
   "cell_type": "code",
   "execution_count": 157,
   "id": "a4c5e205",
   "metadata": {},
   "outputs": [],
   "source": [
    "dict1 = {'a': 1, 'b': 2} \n",
    "dict2 = {'b': 3, 'c': 4}"
   ]
  },
  {
   "cell_type": "code",
   "execution_count": 159,
   "id": "b614c52b",
   "metadata": {},
   "outputs": [],
   "source": [
    "dict1.update(dict2)\n"
   ]
  },
  {
   "cell_type": "code",
   "execution_count": 160,
   "id": "e2288ac7",
   "metadata": {},
   "outputs": [
    {
     "data": {
      "text/plain": [
       "{'a': 1, 'b': 3, 'c': 4}"
      ]
     },
     "execution_count": 160,
     "metadata": {},
     "output_type": "execute_result"
    }
   ],
   "source": [
    "dict1"
   ]
  },
  {
   "cell_type": "markdown",
   "id": "79381e60",
   "metadata": {},
   "source": [
    "Question 10: Nested Dictionary\n",
    "\n",
    "Create a nested dictionary with the following structure:\n",
    "\n",
    "python\n",
    "\n",
    "student = {\n",
    "    'name': 'Lily',\n",
    "    'details': {\n",
    "        'age': 22,\n",
    "        'subjects': ['Math', 'Physics']\n",
    "    }\n",
    "}\n",
    "\n",
    "    Access and print the list of subjects.\n",
    " "
   ]
  },
  {
   "cell_type": "code",
   "execution_count": 173,
   "id": "fac835cb",
   "metadata": {},
   "outputs": [],
   "source": [
    "student = { 'name': 'Lily', 'details': { 'age': 22, 'subjects': ['Math', 'Physics'] } }"
   ]
  },
  {
   "cell_type": "code",
   "execution_count": 178,
   "id": "eda3d84b",
   "metadata": {},
   "outputs": [
    {
     "data": {
      "text/plain": [
       "['Math', 'Physics']"
      ]
     },
     "execution_count": 178,
     "metadata": {},
     "output_type": "execute_result"
    }
   ],
   "source": [
    "student['details'][\"subjects\"]"
   ]
  },
  {
   "cell_type": "code",
   "execution_count": null,
   "id": "7b898619",
   "metadata": {},
   "outputs": [],
   "source": []
  }
 ],
 "metadata": {
  "kernelspec": {
   "display_name": "Python 3 (ipykernel)",
   "language": "python",
   "name": "python3"
  },
  "language_info": {
   "codemirror_mode": {
    "name": "ipython",
    "version": 3
   },
   "file_extension": ".py",
   "mimetype": "text/x-python",
   "name": "python",
   "nbconvert_exporter": "python",
   "pygments_lexer": "ipython3",
   "version": "3.9.12"
  }
 },
 "nbformat": 4,
 "nbformat_minor": 5
}
