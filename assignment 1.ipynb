{
 "cells": [
  {
   "cell_type": "markdown",
   "id": "b71ac361",
   "metadata": {},
   "source": [
    "1. In the below elements which of them are values or an expression? eg:- values can be\n",
    "integer or string and expressions will be mathematical operators.\n",
    "\n",
    "ANS- \n",
    "\n",
    "<br>* = Expression\n",
    "<br>&#39;hello&#39; = Values\n",
    "<br>-87.8 = Values\n",
    "<br>- = Expression\n",
    "<br>/ = Expression\n",
    "<br>+ = Expression\n",
    "<br>6 = Values"
   ]
  },
  {
   "cell_type": "markdown",
   "id": "d33effe3",
   "metadata": {},
   "source": [
    "2. What is the difference between string and variable?\n",
    "\n",
    "ANS - String is an the combination of words and integers or we can say type of information where we used to store the data into variables"
   ]
  },
  {
   "cell_type": "markdown",
   "id": "6d05c579",
   "metadata": {},
   "source": [
    "3. Describe three different data types.\n",
    "\n",
    "ANS - <br> 1. STRING (str)\n",
    "<br> 2. Integer (int)\n",
    "<br> 3. Float (float)"
   ]
  },
  {
   "cell_type": "markdown",
   "id": "b706b659",
   "metadata": {},
   "source": [
    "4. What is an expression made up of? What do all expressions do?\n",
    "\n",
    "ANS - expression is a combination of values, variables, operators, and calls to functions. Expressions need to be evaluated."
   ]
  },
  {
   "cell_type": "markdown",
   "id": "1f43934a",
   "metadata": {},
   "source": [
    "After running the following code, what does the variable bacon contain?\n",
    "<br>bacon = 22\n",
    "<br>bacon + 1\n",
    "\n",
    "ANS - 23\n"
   ]
  },
  {
   "cell_type": "markdown",
   "id": "02299e2c",
   "metadata": {},
   "source": [
    "7. What should the values of the following two terms be?\n",
    "<br>&#39;spam&#39; + &#39;spamspam&#39;\n",
    "<br>&#39;spam&#39; * 3\n",
    "\n",
    "<br>ANS- spamspamspam\n",
    "<br>spamspamspam"
   ]
  },
  {
   "cell_type": "code",
   "execution_count": null,
   "id": "b7c83722",
   "metadata": {},
   "outputs": [],
   "source": []
  }
 ],
 "metadata": {
  "kernelspec": {
   "display_name": "Python 3 (ipykernel)",
   "language": "python",
   "name": "python3"
  },
  "language_info": {
   "codemirror_mode": {
    "name": "ipython",
    "version": 3
   },
   "file_extension": ".py",
   "mimetype": "text/x-python",
   "name": "python",
   "nbconvert_exporter": "python",
   "pygments_lexer": "ipython3",
   "version": "3.9.12"
  }
 },
 "nbformat": 4,
 "nbformat_minor": 5
}
