{
 "cells": [
  {
   "cell_type": "markdown",
   "id": "ba17ab4b",
   "metadata": {},
   "source": [
    "Basic Exception Handling:\n",
    "\n",
    "    What is an exception in Python, and why is exception handling important?"
   ]
  },
  {
   "cell_type": "markdown",
   "id": "4256f605",
   "metadata": {},
   "source": [
    "ANS - Expection handling is noting but to handal the errors , so if your program is getting \"Runtime Error\" due to some invalid input in that case we use expectional handaling so we can run our funther program without getting fail.\n",
    "<br> exception halding important for not to stop the whole program just because an error and do not malfunction the whole program"
   ]
  },
  {
   "cell_type": "markdown",
   "id": "b525d4ff",
   "metadata": {},
   "source": [
    "Using try and except:\n",
    "\n",
    "    Write a program that takes two numbers as input and divides the first by the second. Use exception handling to catch division by zero and print an appropriate error message."
   ]
  },
  {
   "cell_type": "code",
   "execution_count": 2,
   "id": "8c7b7987",
   "metadata": {},
   "outputs": [
    {
     "name": "stdout",
     "output_type": "stream",
     "text": [
      "4\n",
      "0\n",
      "the error messege you got is =  division by zero\n"
     ]
    }
   ],
   "source": [
    "a=int(input())\n",
    "b=int(input())\n",
    "try:\n",
    "    a/b\n",
    "except Exception as e:\n",
    "    print(\"the error messege you got is = \" ,e)"
   ]
  },
  {
   "cell_type": "markdown",
   "id": "770b5281",
   "metadata": {},
   "source": [
    "File Handling with Exceptions:\n",
    "\n",
    "    Write a program to open a file and read its contents. Use exception handling to catch and handle a FileNotFoundError if the file does not exist. Print an error message if the file cannot be found."
   ]
  },
  {
   "cell_type": "code",
   "execution_count": 3,
   "id": "60e75476",
   "metadata": {},
   "outputs": [
    {
     "name": "stdout",
     "output_type": "stream",
     "text": [
      "file can not be found\n"
     ]
    }
   ],
   "source": [
    "try:\n",
    "    f=open(\"jayesh.txt\",\"r\")\n",
    "    f.read()\n",
    "except:\n",
    "    print(\"file can not be found\")"
   ]
  },
  {
   "cell_type": "markdown",
   "id": "e7c7d6cd",
   "metadata": {},
   "source": [
    "Integer Input Validation:\n",
    "\n",
    "    Write a function that asks the user to input an integer. Use exception handling to handle ValueError if the user inputs something that is not an integer, and prompt them to try again."
   ]
  },
  {
   "cell_type": "code",
   "execution_count": 4,
   "id": "31028783",
   "metadata": {},
   "outputs": [
    {
     "name": "stdout",
     "output_type": "stream",
     "text": [
      "dga\n",
      "this is not an interger , try again\n"
     ]
    }
   ],
   "source": [
    "try:\n",
    "    a=int(input())\n",
    "except:\n",
    "    print(\"this is not an interger , try again\")"
   ]
  },
  {
   "cell_type": "markdown",
   "id": "51bb5719",
   "metadata": {},
   "source": [
    "Handling Multiple Exceptions:\n",
    "\n",
    "    Write a function that takes two inputs from the user and divides them. Use try-except to handle both ValueError (if input is not a number) and ZeroDivisionError (if there’s an attempt to divide by zero), with appropriate messages for each exception."
   ]
  },
  {
   "cell_type": "code",
   "execution_count": 21,
   "id": "b14f5670",
   "metadata": {},
   "outputs": [
    {
     "name": "stdout",
     "output_type": "stream",
     "text": [
      "4\n",
      "5\n"
     ]
    },
    {
     "data": {
      "text/plain": [
       "'Division is - 0.8 '"
      ]
     },
     "execution_count": 21,
     "metadata": {},
     "output_type": "execute_result"
    }
   ],
   "source": [
    "def test(a,b):\n",
    "    try:\n",
    "        a=int(input())\n",
    "        b=int(input())\n",
    "        c=a/b\n",
    "        \n",
    "    except ZeroDivisionError:\n",
    "        return \"Error: Division by zero is not allowed.\"\n",
    "    except ValueError:\n",
    "        return \"Error: Please enter valid numbers.\"\n",
    "    else:\n",
    "        return f\"Division is - {c} \"\n",
    "test(a,b)    "
   ]
  },
  {
   "cell_type": "code",
   "execution_count": null,
   "id": "9cffc5b5",
   "metadata": {},
   "outputs": [],
   "source": []
  }
 ],
 "metadata": {
  "kernelspec": {
   "display_name": "Python 3 (ipykernel)",
   "language": "python",
   "name": "python3"
  },
  "language_info": {
   "codemirror_mode": {
    "name": "ipython",
    "version": 3
   },
   "file_extension": ".py",
   "mimetype": "text/x-python",
   "name": "python",
   "nbconvert_exporter": "python",
   "pygments_lexer": "ipython3",
   "version": "3.9.12"
  }
 },
 "nbformat": 4,
 "nbformat_minor": 5
}
