{
 "cells": [
  {
   "cell_type": "markdown",
   "id": "e7d781c0",
   "metadata": {},
   "source": [
    "## This Notebook contain - \n"
   ]
  },
  {
   "cell_type": "markdown",
   "id": "648c3902",
   "metadata": {},
   "source": [
    "- Basic Python theory\n",
    "- Basic python handson(basic syntaxt , arthamtic oprations, input functon, Strings, list)"
   ]
  },
  {
   "cell_type": "markdown",
   "id": "82aa9cb8",
   "metadata": {},
   "source": [
    "What is python - Python is a hgh level language,which is a general-purpose, open-source programming language that is used for a variety of tasks,Like -\n",
    "\n",
    "<br>Web development\n",
    "<br>Software development\n",
    "<br>Data science\n",
    "<br>Machine learning\n",
    "<br>Automation\n",
    "\n",
    " \n",
    "\n",
    "<br>1)Inetger (INT) - 1234\n",
    "<br>2)Complex number  - 5+6j\n",
    "<br>3)Float - 33.4\n",
    "<br>4)Dictionary - {}\n",
    "<br>5)Set - \n",
    "<br>6)Tuple - ()\n",
    "<br>7)List - [ ]\n",
    "<br>8)Boolean - True, False"
   ]
  },
  {
   "cell_type": "code",
   "execution_count": 4,
   "id": "b3bbee25",
   "metadata": {},
   "outputs": [
    {
     "name": "stdout",
     "output_type": "stream",
     "text": [
      "My name is Jayesh\n"
     ]
    }
   ],
   "source": [
    "# Print Statment in python\n",
    "print(\"My name is Jayesh\")"
   ]
  },
  {
   "cell_type": "code",
   "execution_count": 6,
   "id": "a04a4586",
   "metadata": {},
   "outputs": [
    {
     "data": {
      "text/plain": [
       "30"
      ]
     },
     "execution_count": 6,
     "metadata": {},
     "output_type": "execute_result"
    }
   ],
   "source": [
    "# + oprator - \n",
    "a=10\n",
    "b=20\n",
    "a+b"
   ]
  },
  {
   "cell_type": "code",
   "execution_count": 7,
   "id": "d359da11",
   "metadata": {},
   "outputs": [
    {
     "data": {
      "text/plain": [
       "10"
      ]
     },
     "execution_count": 7,
     "metadata": {},
     "output_type": "execute_result"
    }
   ],
   "source": [
    "# - oprator-\n",
    "b-a"
   ]
  },
  {
   "cell_type": "code",
   "execution_count": 8,
   "id": "eab0205b",
   "metadata": {},
   "outputs": [
    {
     "data": {
      "text/plain": [
       "200"
      ]
     },
     "execution_count": 8,
     "metadata": {},
     "output_type": "execute_result"
    }
   ],
   "source": [
    "# * oprator - \n",
    "a*b"
   ]
  },
  {
   "cell_type": "code",
   "execution_count": 9,
   "id": "63d5a9ff",
   "metadata": {},
   "outputs": [
    {
     "data": {
      "text/plain": [
       "2.0"
      ]
     },
     "execution_count": 9,
     "metadata": {},
     "output_type": "execute_result"
    }
   ],
   "source": [
    "# / oprator\n",
    "b/a"
   ]
  },
  {
   "cell_type": "code",
   "execution_count": 13,
   "id": "0779aebd",
   "metadata": {},
   "outputs": [
    {
     "name": "stdout",
     "output_type": "stream",
     "text": [
      "enter an number 5\n",
      "5\n"
     ]
    }
   ],
   "source": [
    "# how to take input \n",
    "a= input(\"enter an number \")\n",
    "print (a)"
   ]
  },
  {
   "cell_type": "code",
   "execution_count": 15,
   "id": "c448862a",
   "metadata": {},
   "outputs": [
    {
     "name": "stdout",
     "output_type": "stream",
     "text": [
      "Enter an string jayesh\n"
     ]
    },
    {
     "data": {
      "text/plain": [
       "'jayesh'"
      ]
     },
     "execution_count": 15,
     "metadata": {},
     "output_type": "execute_result"
    }
   ],
   "source": [
    "a= str(input(\"Enter an string \"))\n",
    "a"
   ]
  },
  {
   "cell_type": "code",
   "execution_count": 16,
   "id": "b6fae51f",
   "metadata": {},
   "outputs": [
    {
     "data": {
      "text/plain": [
       "str"
      ]
     },
     "execution_count": 16,
     "metadata": {},
     "output_type": "execute_result"
    }
   ],
   "source": [
    "#Check the type of variable a\n",
    "type(a)"
   ]
  },
  {
   "cell_type": "code",
   "execution_count": 28,
   "id": "e37f1266",
   "metadata": {},
   "outputs": [
    {
     "name": "stdout",
     "output_type": "stream",
     "text": [
      "<class 'complex'>\n",
      "4.0\n",
      "3.0\n"
     ]
    }
   ],
   "source": [
    "# we use j is the imaginory number in python\n",
    "v=3+4j\n",
    "print(type(v))\n",
    "print(v.imag)\n",
    "print(v.real)"
   ]
  },
  {
   "cell_type": "code",
   "execution_count": 29,
   "id": "e7b23fc8",
   "metadata": {},
   "outputs": [],
   "source": [
    "#boolean \n",
    "A= True\n",
    "B= False\n"
   ]
  },
  {
   "cell_type": "code",
   "execution_count": 30,
   "id": "e709d2d0",
   "metadata": {},
   "outputs": [],
   "source": [
    "# False value is always 0\n",
    "# True value is always 1 "
   ]
  },
  {
   "cell_type": "code",
   "execution_count": 31,
   "id": "3cde4cce",
   "metadata": {},
   "outputs": [
    {
     "data": {
      "text/plain": [
       "1"
      ]
     },
     "execution_count": 31,
     "metadata": {},
     "output_type": "execute_result"
    }
   ],
   "source": [
    "#True+False \n",
    "A+B"
   ]
  },
  {
   "cell_type": "code",
   "execution_count": 32,
   "id": "222f20aa",
   "metadata": {},
   "outputs": [
    {
     "data": {
      "text/plain": [
       "2"
      ]
     },
     "execution_count": 32,
     "metadata": {},
     "output_type": "execute_result"
    }
   ],
   "source": [
    "#True +True\n",
    "A+A"
   ]
  },
  {
   "cell_type": "code",
   "execution_count": 33,
   "id": "49e34639",
   "metadata": {},
   "outputs": [
    {
     "data": {
      "text/plain": [
       "bool"
      ]
     },
     "execution_count": 33,
     "metadata": {},
     "output_type": "execute_result"
    }
   ],
   "source": [
    "type(A)"
   ]
  },
  {
   "cell_type": "code",
   "execution_count": 35,
   "id": "5f9bdc7f",
   "metadata": {},
   "outputs": [
    {
     "name": "stdout",
     "output_type": "stream",
     "text": [
      "Jayesh Vadje\n"
     ]
    }
   ],
   "source": [
    "#how to add two strings\n",
    "a=\"Jayesh\"\n",
    "b=\" Vadje\"\n",
    "c= a+b\n",
    "print(c)"
   ]
  },
  {
   "cell_type": "code",
   "execution_count": 36,
   "id": "34b6d413",
   "metadata": {},
   "outputs": [
    {
     "data": {
      "text/plain": [
       "'JayeshJayeshJayesh'"
      ]
     },
     "execution_count": 36,
     "metadata": {},
     "output_type": "execute_result"
    }
   ],
   "source": [
    "#we can multiply the strings \n",
    "a*3"
   ]
  },
  {
   "cell_type": "code",
   "execution_count": 37,
   "id": "da0c9611",
   "metadata": {},
   "outputs": [
    {
     "data": {
      "text/plain": [
       "'JayeshJayesh'"
      ]
     },
     "execution_count": 37,
     "metadata": {},
     "output_type": "execute_result"
    }
   ],
   "source": [
    "#we can add as well\n",
    "a+a"
   ]
  },
  {
   "cell_type": "code",
   "execution_count": 101,
   "id": "f347e4fa",
   "metadata": {},
   "outputs": [
    {
     "name": "stdout",
     "output_type": "stream",
     "text": [
      "Hello my name is Jayesh Vadje\n"
     ]
    },
    {
     "data": {
      "text/plain": [
       "str"
      ]
     },
     "execution_count": 101,
     "metadata": {},
     "output_type": "execute_result"
    }
   ],
   "source": [
    "# Now lets look at String, string oprations and Slicing \n",
    "a= \"Hello my name is Jayesh Vadje\"\n",
    "print(a)\n",
    "type(a)"
   ]
  },
  {
   "cell_type": "code",
   "execution_count": 43,
   "id": "cec53f88",
   "metadata": {},
   "outputs": [
    {
     "data": {
      "text/plain": [
       "29"
      ]
     },
     "execution_count": 43,
     "metadata": {},
     "output_type": "execute_result"
    }
   ],
   "source": [
    "#lenght opration to check the lenght of string\n",
    "len(a)"
   ]
  },
  {
   "cell_type": "markdown",
   "id": "97504f4f",
   "metadata": {},
   "source": [
    "always remember index is starts from 0\n"
   ]
  },
  {
   "cell_type": "code",
   "execution_count": 47,
   "id": "e87c7917",
   "metadata": {},
   "outputs": [
    {
     "data": {
      "text/plain": [
       "'o'"
      ]
     },
     "execution_count": 47,
     "metadata": {},
     "output_type": "execute_result"
    }
   ],
   "source": [
    "a[4]"
   ]
  },
  {
   "cell_type": "code",
   "execution_count": 48,
   "id": "30ad7132",
   "metadata": {},
   "outputs": [
    {
     "data": {
      "text/plain": [
       "'ello'"
      ]
     },
     "execution_count": 48,
     "metadata": {},
     "output_type": "execute_result"
    }
   ],
   "source": [
    "a[1:5]"
   ]
  },
  {
   "cell_type": "code",
   "execution_count": 49,
   "id": "fb15c3e0",
   "metadata": {},
   "outputs": [
    {
     "data": {
      "text/plain": [
       "'e'"
      ]
     },
     "execution_count": 49,
     "metadata": {},
     "output_type": "execute_result"
    }
   ],
   "source": [
    "a[-1]"
   ]
  },
  {
   "cell_type": "code",
   "execution_count": 51,
   "id": "41958d3c",
   "metadata": {},
   "outputs": [
    {
     "data": {
      "text/plain": [
       "'ejdaV hseyaJ si eman ym olleH'"
      ]
     },
     "execution_count": 51,
     "metadata": {},
     "output_type": "execute_result"
    }
   ],
   "source": [
    "#how to revese the string\n",
    "a[::-1]"
   ]
  },
  {
   "cell_type": "code",
   "execution_count": 53,
   "id": "758d67d8",
   "metadata": {},
   "outputs": [
    {
     "data": {
      "text/plain": [
       "'Hlom aei aehVde'"
      ]
     },
     "execution_count": 53,
     "metadata": {},
     "output_type": "execute_result"
    }
   ],
   "source": [
    "#jump statment - first will be index starting ,middle will be index end and end will be jump number \n",
    "a[0:100:2]"
   ]
  },
  {
   "cell_type": "code",
   "execution_count": 58,
   "id": "adc1bbc6",
   "metadata": {},
   "outputs": [
    {
     "name": "stdout",
     "output_type": "stream",
     "text": [
      "Hello my name is Jayesh Vadje\n"
     ]
    },
    {
     "data": {
      "text/plain": [
       "1"
      ]
     },
     "execution_count": 58,
     "metadata": {},
     "output_type": "execute_result"
    }
   ],
   "source": [
    "#find function - finds the first time index of the perticular element\n",
    "print(a)\n",
    "a.find(\"e\")"
   ]
  },
  {
   "cell_type": "code",
   "execution_count": 60,
   "id": "ad141d97",
   "metadata": {},
   "outputs": [
    {
     "data": {
      "text/plain": [
       "3"
      ]
     },
     "execution_count": 60,
     "metadata": {},
     "output_type": "execute_result"
    }
   ],
   "source": [
    "#count - count the element how many times it occur in the string\n",
    "a.count(\"a\")"
   ]
  },
  {
   "cell_type": "code",
   "execution_count": 67,
   "id": "863f7d3d",
   "metadata": {},
   "outputs": [
    {
     "data": {
      "text/plain": [
       "'Hello my name is jayesh vadje'"
      ]
     },
     "execution_count": 67,
     "metadata": {},
     "output_type": "execute_result"
    }
   ],
   "source": [
    "a.capitalize()"
   ]
  },
  {
   "cell_type": "code",
   "execution_count": 68,
   "id": "9cef3340",
   "metadata": {},
   "outputs": [
    {
     "data": {
      "text/plain": [
       "'hello my name is jayesh vadje'"
      ]
     },
     "execution_count": 68,
     "metadata": {},
     "output_type": "execute_result"
    }
   ],
   "source": [
    "a.casefold()"
   ]
  },
  {
   "cell_type": "code",
   "execution_count": 74,
   "id": "d3d04c84",
   "metadata": {},
   "outputs": [
    {
     "data": {
      "text/plain": [
       "'tttttttttttttttttttttttttttttttttttHello my name is Jayesh Vadjetttttttttttttttttttttttttttttttttttt'"
      ]
     },
     "execution_count": 74,
     "metadata": {},
     "output_type": "execute_result"
    }
   ],
   "source": [
    "a.center(100,\"t\")"
   ]
  },
  {
   "cell_type": "code",
   "execution_count": 75,
   "id": "75d7c10d",
   "metadata": {},
   "outputs": [
    {
     "data": {
      "text/plain": [
       "'Hello my name is Jayesh Vadje'"
      ]
     },
     "execution_count": 75,
     "metadata": {},
     "output_type": "execute_result"
    }
   ],
   "source": [
    "a"
   ]
  },
  {
   "cell_type": "code",
   "execution_count": 76,
   "id": "a9d3b0f7",
   "metadata": {},
   "outputs": [
    {
     "data": {
      "text/plain": [
       "False"
      ]
     },
     "execution_count": 76,
     "metadata": {},
     "output_type": "execute_result"
    }
   ],
   "source": [
    "a.endswith(\"d\")"
   ]
  },
  {
   "cell_type": "code",
   "execution_count": 81,
   "id": "eac2a9f9",
   "metadata": {},
   "outputs": [
    {
     "data": {
      "text/plain": [
       "'Hello my name is Jayesh Vadje'"
      ]
     },
     "execution_count": 81,
     "metadata": {},
     "output_type": "execute_result"
    }
   ],
   "source": [
    "a.expandtabs()"
   ]
  },
  {
   "cell_type": "code",
   "execution_count": 82,
   "id": "ee3c7f4e",
   "metadata": {},
   "outputs": [
    {
     "data": {
      "text/plain": [
       "False"
      ]
     },
     "execution_count": 82,
     "metadata": {},
     "output_type": "execute_result"
    }
   ],
   "source": [
    "a.isalnum()"
   ]
  },
  {
   "cell_type": "code",
   "execution_count": 86,
   "id": "549d542b",
   "metadata": {},
   "outputs": [],
   "source": [
    "b=\"567657dsgfd56\""
   ]
  },
  {
   "cell_type": "code",
   "execution_count": 87,
   "id": "789b92bc",
   "metadata": {},
   "outputs": [
    {
     "data": {
      "text/plain": [
       "True"
      ]
     },
     "execution_count": 87,
     "metadata": {},
     "output_type": "execute_result"
    }
   ],
   "source": [
    "b.isalnum()"
   ]
  },
  {
   "cell_type": "code",
   "execution_count": 90,
   "id": "dad46f48",
   "metadata": {},
   "outputs": [
    {
     "data": {
      "text/plain": [
       "'5Hello my name is Jayesh Vadje6Hello my name is Jayesh Vadje7Hello my name is Jayesh Vadje6Hello my name is Jayesh Vadje5Hello my name is Jayesh Vadje7Hello my name is Jayesh VadjedHello my name is Jayesh VadjesHello my name is Jayesh VadjegHello my name is Jayesh VadjefHello my name is Jayesh VadjedHello my name is Jayesh Vadje5Hello my name is Jayesh Vadje6'"
      ]
     },
     "execution_count": 90,
     "metadata": {},
     "output_type": "execute_result"
    }
   ],
   "source": [
    "a.join(b)"
   ]
  },
  {
   "cell_type": "code",
   "execution_count": 94,
   "id": "77f204c1",
   "metadata": {},
   "outputs": [
    {
     "data": {
      "text/plain": [
       "'0000000000000000000000000000000000000000000000000000000000000000567657dsgfd56'"
      ]
     },
     "execution_count": 94,
     "metadata": {},
     "output_type": "execute_result"
    }
   ],
   "source": [
    "b.zfill(77)"
   ]
  },
  {
   "cell_type": "code",
   "execution_count": 102,
   "id": "d50007c2",
   "metadata": {},
   "outputs": [],
   "source": [
    "#split opration splits the string by space\n",
    "a=a.split()"
   ]
  },
  {
   "cell_type": "code",
   "execution_count": 103,
   "id": "e2bf0521",
   "metadata": {},
   "outputs": [
    {
     "data": {
      "text/plain": [
       "['Hello', 'my', 'name', 'is', 'Jayesh', 'Vadje']"
      ]
     },
     "execution_count": 103,
     "metadata": {},
     "output_type": "execute_result"
    }
   ],
   "source": [
    "a"
   ]
  },
  {
   "cell_type": "code",
   "execution_count": 104,
   "id": "e5cd6508",
   "metadata": {},
   "outputs": [
    {
     "data": {
      "text/plain": [
       "list"
      ]
     },
     "execution_count": 104,
     "metadata": {},
     "output_type": "execute_result"
    }
   ],
   "source": [
    "type(a)"
   ]
  },
  {
   "cell_type": "code",
   "execution_count": 105,
   "id": "cd464c00",
   "metadata": {},
   "outputs": [
    {
     "data": {
      "text/plain": [
       "'my'"
      ]
     },
     "execution_count": 105,
     "metadata": {},
     "output_type": "execute_result"
    }
   ],
   "source": [
    "a[1]"
   ]
  },
  {
   "cell_type": "code",
   "execution_count": 106,
   "id": "9423ac94",
   "metadata": {},
   "outputs": [
    {
     "data": {
      "text/plain": [
       "'Jayesh'"
      ]
     },
     "execution_count": 106,
     "metadata": {},
     "output_type": "execute_result"
    }
   ],
   "source": [
    "a[4]"
   ]
  },
  {
   "cell_type": "code",
   "execution_count": 107,
   "id": "a6db4d75",
   "metadata": {},
   "outputs": [
    {
     "data": {
      "text/plain": [
       "'y'"
      ]
     },
     "execution_count": 107,
     "metadata": {},
     "output_type": "execute_result"
    }
   ],
   "source": [
    "a[4][2]"
   ]
  },
  {
   "cell_type": "code",
   "execution_count": 108,
   "id": "0c48c8fd",
   "metadata": {},
   "outputs": [],
   "source": [
    "a[4]=\"Joy\""
   ]
  },
  {
   "cell_type": "code",
   "execution_count": 109,
   "id": "52d198c7",
   "metadata": {},
   "outputs": [
    {
     "data": {
      "text/plain": [
       "['Hello', 'my', 'name', 'is', 'Joy', 'Vadje']"
      ]
     },
     "execution_count": 109,
     "metadata": {},
     "output_type": "execute_result"
    }
   ],
   "source": [
    "a"
   ]
  },
  {
   "cell_type": "code",
   "execution_count": 110,
   "id": "a30a001b",
   "metadata": {},
   "outputs": [
    {
     "data": {
      "text/plain": [
       "'Joy'"
      ]
     },
     "execution_count": 110,
     "metadata": {},
     "output_type": "execute_result"
    }
   ],
   "source": [
    "a[4]"
   ]
  },
  {
   "cell_type": "markdown",
   "id": "398bfca0",
   "metadata": {},
   "source": [
    "## Hands on - \n"
   ]
  },
  {
   "cell_type": "markdown",
   "id": "33e7a9b4",
   "metadata": {},
   "source": [
    "Write a Python script that performs the following operations:\n",
    "\n",
    "    Add two integers: 10 and 20\n",
    "    Subtract 5 from 30\n",
    "    Multiply 6 by 4\n",
    "    Divide 40 by 8 and print the result"
   ]
  },
  {
   "cell_type": "code",
   "execution_count": 111,
   "id": "f1db3509",
   "metadata": {},
   "outputs": [
    {
     "name": "stdout",
     "output_type": "stream",
     "text": [
      "30\n"
     ]
    }
   ],
   "source": [
    "print(10+20)"
   ]
  },
  {
   "cell_type": "code",
   "execution_count": 112,
   "id": "71a972ce",
   "metadata": {},
   "outputs": [
    {
     "name": "stdout",
     "output_type": "stream",
     "text": [
      "25\n"
     ]
    }
   ],
   "source": [
    "print(30-5)"
   ]
  },
  {
   "cell_type": "code",
   "execution_count": 113,
   "id": "256d25a2",
   "metadata": {},
   "outputs": [
    {
     "name": "stdout",
     "output_type": "stream",
     "text": [
      "24\n"
     ]
    }
   ],
   "source": [
    "print(6*4)"
   ]
  },
  {
   "cell_type": "code",
   "execution_count": 114,
   "id": "f60d24cf",
   "metadata": {},
   "outputs": [
    {
     "name": "stdout",
     "output_type": "stream",
     "text": [
      "5.0\n"
     ]
    }
   ],
   "source": [
    "print(40/8)"
   ]
  },
  {
   "cell_type": "markdown",
   "id": "26b6e08a",
   "metadata": {},
   "source": [
    "Question 2: Modulus and Exponentiation\n",
    "\n",
    "Given the numbers 25 and 7, write a Python program to:\n",
    "\n",
    "    Find the remainder when 25 is divided by 7.\n",
    "    Compute 2 raised to the power of 3."
   ]
  },
  {
   "cell_type": "code",
   "execution_count": 116,
   "id": "66e0427a",
   "metadata": {},
   "outputs": [
    {
     "name": "stdout",
     "output_type": "stream",
     "text": [
      "4\n"
     ]
    }
   ],
   "source": [
    "print(25%7)"
   ]
  },
  {
   "cell_type": "code",
   "execution_count": 118,
   "id": "877b1edf",
   "metadata": {},
   "outputs": [
    {
     "name": "stdout",
     "output_type": "stream",
     "text": [
      "8\n"
     ]
    }
   ],
   "source": [
    "print(2**3)"
   ]
  },
  {
   "cell_type": "markdown",
   "id": "f9c8286c",
   "metadata": {},
   "source": [
    "Question 3: Input Function\n",
    "\n",
    "Write a Python script that:\n",
    "\n",
    "    Prompts the user to enter their name.\n",
    "    Prompts the user to enter their age.\n",
    "    Prints a message saying \"Hello [Name], you are [Age] years old.\""
   ]
  },
  {
   "cell_type": "code",
   "execution_count": 129,
   "id": "a2daa83c",
   "metadata": {},
   "outputs": [
    {
     "name": "stdout",
     "output_type": "stream",
     "text": [
      "enter your name jayesh\n",
      "jayesh\n"
     ]
    }
   ],
   "source": [
    "name=str(input(\"enter your name \"))\n",
    "print(name)\n"
   ]
  },
  {
   "cell_type": "code",
   "execution_count": 130,
   "id": "fbe60975",
   "metadata": {},
   "outputs": [
    {
     "name": "stdout",
     "output_type": "stream",
     "text": [
      "Enter you age24\n",
      "24\n"
     ]
    }
   ],
   "source": [
    "age=int(input(\"Enter you age\"))\n",
    "print(age)"
   ]
  },
  {
   "cell_type": "code",
   "execution_count": 135,
   "id": "391dbf8d",
   "metadata": {},
   "outputs": [
    {
     "name": "stdout",
     "output_type": "stream",
     "text": [
      "Hello jayesh,you are 24 years old\n"
     ]
    }
   ],
   "source": [
    "print(f'Hello {name},you are {age} years old')"
   ]
  },
  {
   "cell_type": "markdown",
   "id": "54d56462",
   "metadata": {},
   "source": [
    "2. Strings:\n",
    "Question 4: String Manipulation\n",
    "\n",
    "Given the string \"Python is Fun!\", write a Python program to:\n",
    "\n",
    "    Print the string in all uppercase.\n",
    "    Print the string in reverse order.\n",
    "    Extract and print the substring \"Python\".\n",
    "    Replace \"Fun\" with \"Awesome\" and print the result."
   ]
  },
  {
   "cell_type": "code",
   "execution_count": 136,
   "id": "d7aa7841",
   "metadata": {},
   "outputs": [
    {
     "data": {
      "text/plain": [
       "'PYTHON IS FUN!'"
      ]
     },
     "execution_count": 136,
     "metadata": {},
     "output_type": "execute_result"
    }
   ],
   "source": [
    "a = \"Python is Fun!\"\n",
    "a.upper()"
   ]
  },
  {
   "cell_type": "code",
   "execution_count": 137,
   "id": "4cfda64f",
   "metadata": {},
   "outputs": [
    {
     "data": {
      "text/plain": [
       "'!nuF si nohtyP'"
      ]
     },
     "execution_count": 137,
     "metadata": {},
     "output_type": "execute_result"
    }
   ],
   "source": [
    "a[::-1]"
   ]
  },
  {
   "cell_type": "code",
   "execution_count": 139,
   "id": "cca766c5",
   "metadata": {},
   "outputs": [
    {
     "data": {
      "text/plain": [
       "'Python'"
      ]
     },
     "execution_count": 139,
     "metadata": {},
     "output_type": "execute_result"
    }
   ],
   "source": [
    "a[0:6]"
   ]
  },
  {
   "cell_type": "code",
   "execution_count": 140,
   "id": "e7d4dbc0",
   "metadata": {},
   "outputs": [
    {
     "data": {
      "text/plain": [
       "'Python is Awesome!'"
      ]
     },
     "execution_count": 140,
     "metadata": {},
     "output_type": "execute_result"
    }
   ],
   "source": [
    "a.replace(\"Fun\" , \"Awesome\")"
   ]
  },
  {
   "cell_type": "markdown",
   "id": "bbb2fa29",
   "metadata": {},
   "source": [
    "Question 5: String Concatenation\n",
    "\n",
    "Write a program that takes two strings as input from the user and prints the concatenated result of those two strings."
   ]
  },
  {
   "cell_type": "code",
   "execution_count": 141,
   "id": "1763d01e",
   "metadata": {},
   "outputs": [
    {
     "name": "stdout",
     "output_type": "stream",
     "text": [
      "enter first stringjayesh\n",
      "enter second stringvadje\n"
     ]
    },
    {
     "data": {
      "text/plain": [
       "'jayeshvadje'"
      ]
     },
     "execution_count": 141,
     "metadata": {},
     "output_type": "execute_result"
    }
   ],
   "source": [
    "a=str(input(\"enter first string\"))\n",
    "b=str(input(\"enter second string\"))\n",
    "c=a+b\n",
    "c"
   ]
  },
  {
   "cell_type": "markdown",
   "id": "d9561867",
   "metadata": {},
   "source": [
    "3. Lists:\n",
    "Question 6: List Operations\n",
    "\n",
    "Create a list containing the following items: [\"apple\", \"banana\", \"cherry\", \"date\"]. Write a program to:\n",
    "\n",
    "    Append \"orange\" to the list.\n",
    "    Remove \"banana\" from the list.\n",
    "    Print the first and last item of the list.\n",
    "    Sort the list alphabetically."
   ]
  },
  {
   "cell_type": "code",
   "execution_count": 155,
   "id": "6e426e5f",
   "metadata": {},
   "outputs": [],
   "source": [
    "lst=[\"apple\", \"banana\", \"cherry\", \"date\"]"
   ]
  },
  {
   "cell_type": "code",
   "execution_count": 156,
   "id": "fcba45a3",
   "metadata": {},
   "outputs": [
    {
     "data": {
      "text/plain": [
       "['apple', 'banana', 'cherry', 'date', 'orange']"
      ]
     },
     "execution_count": 156,
     "metadata": {},
     "output_type": "execute_result"
    }
   ],
   "source": [
    "lst.append(\"orange\")\n",
    "lst"
   ]
  },
  {
   "cell_type": "code",
   "execution_count": 157,
   "id": "40e5226e",
   "metadata": {},
   "outputs": [
    {
     "data": {
      "text/plain": [
       "['apple', 'cherry', 'date', 'orange']"
      ]
     },
     "execution_count": 157,
     "metadata": {},
     "output_type": "execute_result"
    }
   ],
   "source": [
    "lst.remove(\"banana\")\n",
    "lst"
   ]
  },
  {
   "cell_type": "code",
   "execution_count": 161,
   "id": "78f92306",
   "metadata": {},
   "outputs": [
    {
     "name": "stdout",
     "output_type": "stream",
     "text": [
      "apple\n",
      "orange\n"
     ]
    }
   ],
   "source": [
    "print(lst[0])\n",
    "print(lst[-1])"
   ]
  },
  {
   "cell_type": "code",
   "execution_count": 164,
   "id": "0ede78a1",
   "metadata": {},
   "outputs": [],
   "source": [
    "lst.sort()"
   ]
  },
  {
   "cell_type": "code",
   "execution_count": 165,
   "id": "f1f94533",
   "metadata": {},
   "outputs": [
    {
     "data": {
      "text/plain": [
       "['apple', 'cherry', 'date', 'orange']"
      ]
     },
     "execution_count": 165,
     "metadata": {},
     "output_type": "execute_result"
    }
   ],
   "source": [
    "lst"
   ]
  },
  {
   "cell_type": "markdown",
   "id": "be2eac1d",
   "metadata": {},
   "source": [
    "Question 7: List Slicing\n",
    "\n",
    "Given the list: [1, 2, 3, 4, 5, 6, 7, 8, 9, 10], write a Python program to:\n",
    "\n",
    "    Print the first 5 elements.\n",
    "    Print the last 5 elements.\n",
    "    Print the list in reverse order."
   ]
  },
  {
   "cell_type": "code",
   "execution_count": 168,
   "id": "4ff7978d",
   "metadata": {},
   "outputs": [
    {
     "data": {
      "text/plain": [
       "[1, 2, 3, 4, 5]"
      ]
     },
     "execution_count": 168,
     "metadata": {},
     "output_type": "execute_result"
    }
   ],
   "source": [
    "lst= [1, 2, 3, 4, 5, 6, 7, 8, 9, 10]\n",
    "lst[0:5]"
   ]
  },
  {
   "cell_type": "code",
   "execution_count": 180,
   "id": "23da9584",
   "metadata": {},
   "outputs": [
    {
     "data": {
      "text/plain": [
       "[6, 7, 8, 9, 10]"
      ]
     },
     "execution_count": 180,
     "metadata": {},
     "output_type": "execute_result"
    }
   ],
   "source": [
    "lst[-5:]"
   ]
  },
  {
   "cell_type": "code",
   "execution_count": 182,
   "id": "7e10b83e",
   "metadata": {},
   "outputs": [
    {
     "data": {
      "text/plain": [
       "[10, 9, 8, 7, 6, 5, 4, 3, 2, 1]"
      ]
     },
     "execution_count": 182,
     "metadata": {},
     "output_type": "execute_result"
    }
   ],
   "source": [
    "lst[::-1]"
   ]
  },
  {
   "cell_type": "markdown",
   "id": "f198bfc8",
   "metadata": {},
   "source": [
    "Define a complex number 5 + 6j and print its real and imaginary parts separately."
   ]
  },
  {
   "cell_type": "code",
   "execution_count": 185,
   "id": "56066573",
   "metadata": {},
   "outputs": [
    {
     "data": {
      "text/plain": [
       "6.0"
      ]
     },
     "execution_count": 185,
     "metadata": {},
     "output_type": "execute_result"
    }
   ],
   "source": [
    "b=5 + 6j\n",
    "b.imag"
   ]
  },
  {
   "cell_type": "code",
   "execution_count": 186,
   "id": "46205fda",
   "metadata": {},
   "outputs": [
    {
     "data": {
      "text/plain": [
       "5.0"
      ]
     },
     "execution_count": 186,
     "metadata": {},
     "output_type": "execute_result"
    }
   ],
   "source": [
    "b.real"
   ]
  },
  {
   "cell_type": "markdown",
   "id": "4ea30dde",
   "metadata": {},
   "source": [
    "5. Boolean:\n",
    "Question 9: Boolean Conditions\n",
    "\n",
    "Write a Python program that:\n",
    "\n",
    "    Takes two numbers as input from the user.\n",
    "    Compares the two numbers using comparison operators (>, <, ==)\n",
    "    "
   ]
  },
  {
   "cell_type": "code",
   "execution_count": 195,
   "id": "78f4b457",
   "metadata": {},
   "outputs": [
    {
     "name": "stdout",
     "output_type": "stream",
     "text": [
      "enter number 1st 3\n",
      "enter number 2nd 6\n"
     ]
    }
   ],
   "source": [
    "a=int(input(\"enter number 1st \"))\n",
    "b=int(input(\"enter number 2nd \"))"
   ]
  },
  {
   "cell_type": "code",
   "execution_count": 196,
   "id": "d18feebe",
   "metadata": {},
   "outputs": [
    {
     "data": {
      "text/plain": [
       "False"
      ]
     },
     "execution_count": 196,
     "metadata": {},
     "output_type": "execute_result"
    }
   ],
   "source": [
    "a>b"
   ]
  },
  {
   "cell_type": "code",
   "execution_count": 197,
   "id": "79f4f97a",
   "metadata": {},
   "outputs": [
    {
     "data": {
      "text/plain": [
       "True"
      ]
     },
     "execution_count": 197,
     "metadata": {},
     "output_type": "execute_result"
    }
   ],
   "source": [
    "a<b"
   ]
  },
  {
   "cell_type": "code",
   "execution_count": 198,
   "id": "a257a3c2",
   "metadata": {},
   "outputs": [
    {
     "data": {
      "text/plain": [
       "False"
      ]
     },
     "execution_count": 198,
     "metadata": {},
     "output_type": "execute_result"
    }
   ],
   "source": [
    "a==b"
   ]
  },
  {
   "cell_type": "code",
   "execution_count": null,
   "id": "8f67d4aa",
   "metadata": {},
   "outputs": [],
   "source": []
  }
 ],
 "metadata": {
  "kernelspec": {
   "display_name": "Python 3 (ipykernel)",
   "language": "python",
   "name": "python3"
  },
  "language_info": {
   "codemirror_mode": {
    "name": "ipython",
    "version": 3
   },
   "file_extension": ".py",
   "mimetype": "text/x-python",
   "name": "python",
   "nbconvert_exporter": "python",
   "pygments_lexer": "ipython3",
   "version": "3.9.12"
  }
 },
 "nbformat": 4,
 "nbformat_minor": 5
}
