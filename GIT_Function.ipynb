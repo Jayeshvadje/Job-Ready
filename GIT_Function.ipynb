{
 "cells": [
  {
   "cell_type": "markdown",
   "id": "c405915a",
   "metadata": {},
   "source": [
    "Function is a reuseble block of the code which used to perform a perticular task "
   ]
  },
  {
   "cell_type": "markdown",
   "id": "ea11a3f3",
   "metadata": {},
   "source": [
    "Sum of Two Numbers: Write a function add_numbers(a, b) that takes two numbers as input and returns their sum."
   ]
  },
  {
   "cell_type": "code",
   "execution_count": 12,
   "id": "0ffb191a",
   "metadata": {},
   "outputs": [
    {
     "name": "stdout",
     "output_type": "stream",
     "text": [
      "enter number first5\n",
      "enter number second6\n"
     ]
    },
    {
     "data": {
      "text/plain": [
       "('sum of a & b is =', 11)"
      ]
     },
     "execution_count": 12,
     "metadata": {},
     "output_type": "execute_result"
    }
   ],
   "source": [
    "a=int(input(\"enter number first\"))\n",
    "b=int(input(\"enter number second\"))\n",
    "def add_numbers(a, b):\n",
    "    \"\"\"this function help us to add two numbers\"\"\"\n",
    "    return \"sum of a & b is =\",a+b\n",
    "add_numbers(a, b)\n",
    "    "
   ]
  },
  {
   "cell_type": "markdown",
   "id": "cdb1ed82",
   "metadata": {},
   "source": [
    "Area of a Circle: Write a function circle_area(radius) that calculates and returns the area of a circle given its radius.\n"
   ]
  },
  {
   "cell_type": "code",
   "execution_count": 13,
   "id": "559a5457",
   "metadata": {},
   "outputs": [
    {
     "data": {
      "text/plain": [
       "28.259999999999998"
      ]
     },
     "execution_count": 13,
     "metadata": {},
     "output_type": "execute_result"
    }
   ],
   "source": [
    "def circle_area(radius):\n",
    "    \"\"\"thsi function help us to find the area of circle\"\"\"\n",
    "    pie=3.14\n",
    "    return pie*radius*radius\n",
    "circle_area(3)"
   ]
  },
  {
   "cell_type": "markdown",
   "id": "594c0b16",
   "metadata": {},
   "source": [
    "Check Even or Odd: Write a function is_even(num) that returns True if a number is even and False if it is odd."
   ]
  },
  {
   "cell_type": "code",
   "execution_count": 14,
   "id": "33155208",
   "metadata": {},
   "outputs": [
    {
     "data": {
      "text/plain": [
       "False"
      ]
     },
     "execution_count": 14,
     "metadata": {},
     "output_type": "execute_result"
    }
   ],
   "source": [
    "def is_even(num):\n",
    "    \"\"\"this function help us to check whether the number is even or not\"\"\"\n",
    "    if num%2==0:\n",
    "        return True\n",
    "    else:\n",
    "        return False\n",
    "\n",
    "is_even(3)"
   ]
  },
  {
   "cell_type": "markdown",
   "id": "ee83054c",
   "metadata": {},
   "source": [
    "Square a Number: Create a function square_number(n) that takes a number and returns its square."
   ]
  },
  {
   "cell_type": "code",
   "execution_count": 16,
   "id": "e22126b7",
   "metadata": {},
   "outputs": [
    {
     "name": "stdout",
     "output_type": "stream",
     "text": [
      "Enter the number 6\n"
     ]
    },
    {
     "data": {
      "text/plain": [
       "36"
      ]
     },
     "execution_count": 16,
     "metadata": {},
     "output_type": "execute_result"
    }
   ],
   "source": [
    "number=int(input(\"Enter the number \"))\n",
    "def square_number(number):\n",
    "    \"\"\"this function help to give the square of the number\"\"\"\n",
    "    a=number*number\n",
    "    return a\n",
    "\n",
    "square_number(number)"
   ]
  },
  {
   "cell_type": "markdown",
   "id": "3a616734",
   "metadata": {},
   "source": [
    "Maximum of Three Numbers: Write a function max_of_three(a, b, c) that returns the maximum of three numbers."
   ]
  },
  {
   "cell_type": "code",
   "execution_count": 25,
   "id": "66f3dbf5",
   "metadata": {},
   "outputs": [
    {
     "name": "stdout",
     "output_type": "stream",
     "text": [
      "Enter number 1 5564\n",
      "Enter number 2 564\n",
      "Enter number 3 43\n"
     ]
    },
    {
     "data": {
      "text/plain": [
       "'a is greater'"
      ]
     },
     "execution_count": 25,
     "metadata": {},
     "output_type": "execute_result"
    }
   ],
   "source": [
    "a=int(input(\"Enter number 1 \"))\n",
    "b=int(input(\"Enter number 2 \"))\n",
    "c=int(input(\"Enter number 3 \"))\n",
    "def max_of_three(a, b, c):\n",
    "    \"\"\"this function gives the maximum of three Numbers\"\"\"\n",
    "    if a>b and a>c:\n",
    "        return \"a is greater\"\n",
    "    elif b>a and b>c:\n",
    "        return \"b is greater\"\n",
    "    else:\n",
    "        return \"c is greater\"\n",
    "    \n",
    "max_of_three(a, b, c)"
   ]
  },
  {
   "cell_type": "markdown",
   "id": "a116b977",
   "metadata": {},
   "source": [
    "Count Vowels in a String: Write a function count_vowels(s) that takes a string and returns the count of vowels in it."
   ]
  },
  {
   "cell_type": "code",
   "execution_count": 58,
   "id": "9adf7932",
   "metadata": {},
   "outputs": [
    {
     "name": "stdout",
     "output_type": "stream",
     "text": [
      "enter the string jayesh\n",
      "count of voewl is  2\n"
     ]
    },
    {
     "data": {
      "text/plain": [
       "['a', 'e']"
      ]
     },
     "execution_count": 58,
     "metadata": {},
     "output_type": "execute_result"
    }
   ],
   "source": [
    "s=str(input(\"enter the string \"))\n",
    "def count_vowels(s):\n",
    "    \"\"\"this function returns count of vowels and the vowels\"\"\"\n",
    "    vowels =\"aAeEiIoOuU\"\n",
    "    z=[]\n",
    "    for i in s:\n",
    "        if i in vowels:\n",
    "            z.append(i)\n",
    "    print(\"count of voewl is \",len(z))\n",
    "    return z\n",
    "            \n",
    "count_vowels(s)        "
   ]
  },
  {
   "cell_type": "markdown",
   "id": "566fbf58",
   "metadata": {},
   "source": [
    "\n",
    "Factorial of a Number: Write a recursive function factorial(n) to calculate the factorial of a given number.\n"
   ]
  },
  {
   "cell_type": "code",
   "execution_count": 93,
   "id": "e560b745",
   "metadata": {},
   "outputs": [
    {
     "data": {
      "text/plain": [
       "120"
      ]
     },
     "execution_count": 93,
     "metadata": {},
     "output_type": "execute_result"
    }
   ],
   "source": [
    "def factorial(n):\n",
    "    \"\"\"this function gives us the factoriall of the number \"\"\"\n",
    "    result=1\n",
    "    for i in range(1,n):\n",
    "        result=result*i\n",
    "    return result\n",
    "\n",
    "factorial(6)"
   ]
  },
  {
   "cell_type": "markdown",
   "id": "0ca2a8ae",
   "metadata": {},
   "source": [
    "Check for Palindrome: Create a function is_palindrome(s) that checks if a given string is a palindrome."
   ]
  },
  {
   "cell_type": "code",
   "execution_count": 97,
   "id": "507aa94b",
   "metadata": {},
   "outputs": [
    {
     "name": "stdout",
     "output_type": "stream",
     "text": [
      "aragfdgfs\n"
     ]
    },
    {
     "data": {
      "text/plain": [
       "'string is not palindrome'"
      ]
     },
     "execution_count": 97,
     "metadata": {},
     "output_type": "execute_result"
    }
   ],
   "source": [
    "s=str(input())\n",
    "def is_palindrome(s):\n",
    "    if s==s[::-1]:\n",
    "        return \"string is palindrome\"\n",
    "    else:\n",
    "        return \"string is not palindrome\"\n",
    "is_palindrome(s)    "
   ]
  },
  {
   "cell_type": "code",
   "execution_count": null,
   "id": "fdb2c371",
   "metadata": {},
   "outputs": [],
   "source": []
  }
 ],
 "metadata": {
  "kernelspec": {
   "display_name": "Python 3 (ipykernel)",
   "language": "python",
   "name": "python3"
  },
  "language_info": {
   "codemirror_mode": {
    "name": "ipython",
    "version": 3
   },
   "file_extension": ".py",
   "mimetype": "text/x-python",
   "name": "python",
   "nbconvert_exporter": "python",
   "pygments_lexer": "ipython3",
   "version": "3.9.12"
  }
 },
 "nbformat": 4,
 "nbformat_minor": 5
}
