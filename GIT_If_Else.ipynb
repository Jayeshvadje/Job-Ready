{
 "cells": [
  {
   "cell_type": "markdown",
   "id": "eb33914e",
   "metadata": {},
   "source": [
    "# If Else"
   ]
  },
  {
   "cell_type": "markdown",
   "id": "f277fe2a",
   "metadata": {},
   "source": [
    "if else is the condiotion stament that control the flow of code based on the condition."
   ]
  },
  {
   "cell_type": "code",
   "execution_count": 5,
   "id": "39c18c35",
   "metadata": {},
   "outputs": [
    {
     "name": "stdout",
     "output_type": "stream",
     "text": [
      " enter the number 19\n",
      "you are able to drive\n"
     ]
    }
   ],
   "source": [
    "a= int(input(\" enter the number \"))\n",
    "if a<=18:\n",
    "    print(\"you are not able to drive\")\n",
    "else:\n",
    "    print(\"you are able to drive\")"
   ]
  },
  {
   "cell_type": "markdown",
   "id": "2d056228",
   "metadata": {},
   "source": [
    "Question 1: Check Even or Odd Number (Integers & Arithmetic Operations)\n",
    "\n",
    "Write a Python program that takes an integer input from the user.\n",
    "\n",
    "    Use an if-else statement to check whether the number is even or odd.\n",
    "    Print \"Even\" if the number is even and \"Odd\" if the number is odd."
   ]
  },
  {
   "cell_type": "code",
   "execution_count": 8,
   "id": "61a75b2a",
   "metadata": {},
   "outputs": [
    {
     "name": "stdout",
     "output_type": "stream",
     "text": [
      "Enter the number 3\n",
      "Odd\n"
     ]
    }
   ],
   "source": [
    "Num=int(input(\"Enter the number \"))\n",
    "if Num%2==0:\n",
    "    print(\"Even\")\n",
    "else:\n",
    "    print(\"Odd\")"
   ]
  },
  {
   "cell_type": "markdown",
   "id": "5bb4fd65",
   "metadata": {},
   "source": [
    "Question 2: Check Age for Voting Eligibility (If-Else with Input)\n",
    "\n",
    "Write a Python program that takes the age of a person as input.\n",
    "\n",
    "    If the age is 18 or above, print \"You are eligible to vote.\"\n",
    "    Otherwise, print \"You are not eligible to vote.\""
   ]
  },
  {
   "cell_type": "code",
   "execution_count": 12,
   "id": "8bf71803",
   "metadata": {},
   "outputs": [
    {
     "name": "stdout",
     "output_type": "stream",
     "text": [
      " enter the number 18\n",
      "You are eligible to vote\n"
     ]
    }
   ],
   "source": [
    "a= int(input(\" enter the number \"))\n",
    "if a>=18:\n",
    "    print(\"You are eligible to vote\")\n",
    "else:\n",
    "    print(\"You are not eligible to vote\")"
   ]
  },
  {
   "cell_type": "markdown",
   "id": "cee0bcd5",
   "metadata": {},
   "source": [
    "Question 3: Compare Two Strings (Strings & If-Else)\n",
    "\n",
    "Write a program that takes two strings as input from the user.\n",
    "\n",
    "    Compare the two strings using if-else.\n",
    "    Print \"The strings are equal\" if they are the same.\n",
    "    Print \"The strings are different\" if they are not."
   ]
  },
  {
   "cell_type": "code",
   "execution_count": 14,
   "id": "df8afc3c",
   "metadata": {},
   "outputs": [
    {
     "name": "stdout",
     "output_type": "stream",
     "text": [
      "enter first string Jayesh\n",
      "enter Second string Vadje\n",
      "The strings are different\n"
     ]
    }
   ],
   "source": [
    "Str1=str(input(\"enter first string \"))\n",
    "Str2=str(input(\"enter Second string \"))\n",
    "\n",
    "if Str1==Str2:\n",
    "    print(\"The strings are equal\")\n",
    "else:\n",
    "    print(\"The strings are different\")"
   ]
  },
  {
   "cell_type": "markdown",
   "id": "7d011a5d",
   "metadata": {},
   "source": [
    "Question 5: Check Membership in Tuple (Tuples & If-Else)\n",
    "\n",
    "Create a tuple numbers = (10, 20, 30, 40, 50).\n",
    "\n",
    "    Write a program that asks the user for a number and checks if that number is in the tuple.\n",
    "    If the number is found, print \"Number found in the tuple.\"\n",
    "    Otherwise, print \"Number not found in the tuple.\""
   ]
  },
  {
   "cell_type": "code",
   "execution_count": 19,
   "id": "b2de4530",
   "metadata": {},
   "outputs": [
    {
     "name": "stdout",
     "output_type": "stream",
     "text": [
      "Enter the number 50\n",
      "Number found in the tuple.\n"
     ]
    }
   ],
   "source": [
    "Tup=(10, 20, 30, 40, 50)\n",
    "\n",
    "Num=int(input(\"Enter the number \"))\n",
    "if Num in Tup:\n",
    "    print(\"Number found in the tuple.\")\n",
    "else:\n",
    "    print(\"Number not found in the tuple.\")"
   ]
  },
  {
   "cell_type": "markdown",
   "id": "ad928738",
   "metadata": {},
   "source": [
    "Question 6: Check Key Existence in Dictionary (Dictionaries & If-Else)\n",
    "\n",
    "Create a dictionary student = {'name': 'Sara', 'age': 21, 'grade': 'A'}.\n",
    "\n",
    "    Write a program that checks if the key 'age' exists in the dictionary.\n",
    "    If the key exists, print \"Key exists.\"\n",
    "    Otherwise, print \"Key does not exist.\"\n",
    "\n"
   ]
  },
  {
   "cell_type": "code",
   "execution_count": 24,
   "id": "6844c021",
   "metadata": {},
   "outputs": [
    {
     "name": "stdout",
     "output_type": "stream",
     "text": [
      "Key exists.\n"
     ]
    }
   ],
   "source": [
    "Dict={'name': 'Sara', 'age': 21, 'grade': 'A'}\n",
    "if \"age\" in Dict:\n",
    "    print(\"Key exists.\")\n",
    "else:\n",
    "    print(\"Key does not exist.\")"
   ]
  },
  {
   "cell_type": "markdown",
   "id": "31716fa7",
   "metadata": {},
   "source": [
    "Write a Python program that takes two numbers as input from the user.\n",
    "\n",
    "    Use an if-else statement to compare the two numbers.\n",
    "    Print \"First number is greater\" if the first number is larger, \"Second number is greater\" if the second is larger, and \"Both numbers are equal\" if they are the same."
   ]
  },
  {
   "cell_type": "code",
   "execution_count": 8,
   "id": "c23b04ff",
   "metadata": {},
   "outputs": [
    {
     "name": "stdout",
     "output_type": "stream",
     "text": [
      "enter first number4\n",
      "enter Second number2\n",
      "First number is greater\n"
     ]
    }
   ],
   "source": [
    "Num1=int(input(\"enter first number\"))\n",
    "Num2=int(input(\"enter Second number\"))\n",
    "\n",
    "if Num1>Num2:\n",
    "    print(\"First number is greater\")\n",
    "elif Num1<Num2:\n",
    "    print(\"second number is greater\")\n",
    "else:\n",
    "    print(\"Both numbers are equal\")\n",
    "         "
   ]
  },
  {
   "cell_type": "markdown",
   "id": "12c22765",
   "metadata": {},
   "source": [
    "Question 9: Grade Classification (If-Elif-Else with Arithmetic)\n",
    "\n",
    "Write a Python program that asks for a student's score (between 0 and 100).\n",
    "\n",
    "    If the score is 90 or above, print \"Grade: A\".\n",
    "    If the score is between 80 and 89, print \"Grade: B\".\n",
    "    If the score is between 70 and 79, print \"Grade: C\".\n",
    "    If the score is between 60 and 69, print \"Grade: D\".\n",
    "    Otherwise, print \"Grade: F\"."
   ]
  },
  {
   "cell_type": "code",
   "execution_count": 13,
   "id": "0d7bfc7d",
   "metadata": {},
   "outputs": [
    {
     "name": "stdout",
     "output_type": "stream",
     "text": [
      "Enter the student score70\n",
      "Grade C\n"
     ]
    }
   ],
   "source": [
    "Score=int(input(\"Enter the student score\"))\n",
    "if Score>=90:\n",
    "    print(\"Grade A\")\n",
    "elif Score>=80 and Score<=89:\n",
    "    print(\"Grade B\")\n",
    "elif Score>=70 and Score<=79:\n",
    "    print(\"Grade C\")\n",
    "elif Score>=60 and Score<=69:\n",
    "    print(\"Grade D\")\n",
    "else:\n",
    "    print(\"grade F\")\n",
    "\n",
    "    "
   ]
  },
  {
   "cell_type": "markdown",
   "id": "4ad63258",
   "metadata": {},
   "source": [
    "Question 10: Dictionary Value Comparison (If-Else with Dictionaries)\n",
    "\n",
    "Given the dictionary inventory = {'apples': 10, 'oranges': 5, 'bananas': 7}:\n",
    "\n",
    "    Write a program to check if the quantity of 'apples' is greater than 5.\n",
    "    If it is, print \"We have enough apples.\"\n",
    "    Otherwise, print \"We need more apples.\""
   ]
  },
  {
   "cell_type": "code",
   "execution_count": 26,
   "id": "fe58fe31",
   "metadata": {},
   "outputs": [
    {
     "name": "stdout",
     "output_type": "stream",
     "text": [
      "We have enough apples\n"
     ]
    }
   ],
   "source": [
    "inventory = {'apples': 10, 'oranges': 5, 'bananas': 7}\n",
    "if inventory[\"apples\"]>5 :\n",
    "    print(\"We have enough apples\")\n",
    "else:\n",
    "    print(\"We need more apples\")"
   ]
  },
  {
   "cell_type": "markdown",
   "id": "06b63f44",
   "metadata": {},
   "source": [
    "Question 11: Sum of List Elements\n",
    "\n",
    "Given a list of integers numbers = [10, 15, 20, 25, 30]:\n",
    "\n",
    "    Write a Python program that checks if the sum of the list elements is greater than 100.\n",
    "    If the sum is greater than 100, print \"Sum is greater than 100\".\n",
    "    Otherwise, print \"Sum is less than or equal to 100\"."
   ]
  },
  {
   "cell_type": "code",
   "execution_count": 29,
   "id": "ad52cf91",
   "metadata": {},
   "outputs": [
    {
     "name": "stdout",
     "output_type": "stream",
     "text": [
      "Sum is less than or equal to 100\n"
     ]
    }
   ],
   "source": [
    "numbers = [10, 15, 20, 25, 30]\n",
    "if sum(numbers)>100:\n",
    "    print(\"Sum is greater than 100\")\n",
    "else:\n",
    "    print(\"Sum is less than or equal to 100\")"
   ]
  },
  {
   "cell_type": "markdown",
   "id": "6f404434",
   "metadata": {},
   "source": [
    "Question 12: Check for Element in Tuple\n",
    "\n",
    "Given a tuple numbers = (10, 20, 30, 40, 50):\n",
    "\n",
    "    Write a Python program that asks the user to input a number.\n",
    "    Use an if-else statement to check if the number is present in the tuple.\n",
    "    If it is present, print \"Number is in the tuple\".\n",
    "    Otherwise, print \"Number is not in the tuple\"."
   ]
  },
  {
   "cell_type": "code",
   "execution_count": 31,
   "id": "a7cd6133",
   "metadata": {},
   "outputs": [
    {
     "name": "stdout",
     "output_type": "stream",
     "text": [
      "enter the number20\n",
      "Number is in the tuple\n"
     ]
    }
   ],
   "source": [
    "numbers = (10, 20, 30, 40, 50)\n",
    "num=int(input(\"enter the number\"))\n",
    "if num in numbers:\n",
    "    print(\"Number is in the tuple\")\n",
    "else:\n",
    "    print(\"Number is not in the tuple\")"
   ]
  },
  {
   "cell_type": "markdown",
   "id": "efada65a",
   "metadata": {},
   "source": [
    "Question 8: Count Occurrences in List\n",
    "\n",
    "Given a list colors = ['red', 'blue', 'red', 'green', 'blue', 'red']:\n",
    "\n",
    "    Write a Python program that counts how many times 'red' appears in the list.\n",
    "    If 'red' appears more than 2 times, print \"Red appears frequently\".\n",
    "    Otherwise, print \"Red appears rarely\"."
   ]
  },
  {
   "cell_type": "code",
   "execution_count": 37,
   "id": "0403ff2f",
   "metadata": {},
   "outputs": [
    {
     "name": "stdout",
     "output_type": "stream",
     "text": [
      "Red appears frequently\n"
     ]
    }
   ],
   "source": [
    "colors = ['red', 'blue', 'red', 'green', 'blue', 'red']\n",
    "a=colors.count(\"red\")\n",
    "if a>2:\n",
    "    print(\"Red appears frequently\")\n",
    "else:\n",
    "    print(\"Red appears rarely\")"
   ]
  },
  {
   "cell_type": "code",
   "execution_count": null,
   "id": "03169060",
   "metadata": {},
   "outputs": [],
   "source": []
  }
 ],
 "metadata": {
  "kernelspec": {
   "display_name": "Python 3 (ipykernel)",
   "language": "python",
   "name": "python3"
  },
  "language_info": {
   "codemirror_mode": {
    "name": "ipython",
    "version": 3
   },
   "file_extension": ".py",
   "mimetype": "text/x-python",
   "name": "python",
   "nbconvert_exporter": "python",
   "pygments_lexer": "ipython3",
   "version": "3.9.12"
  }
 },
 "nbformat": 4,
 "nbformat_minor": 5
}
